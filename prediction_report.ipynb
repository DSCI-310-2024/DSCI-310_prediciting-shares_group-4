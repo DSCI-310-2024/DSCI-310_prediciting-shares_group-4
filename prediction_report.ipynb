{
 "cells": [
  {
   "cell_type": "code",
   "execution_count": 20,
   "metadata": {
    "vscode": {
     "languageId": "r"
    }
   },
   "outputs": [],
   "source": [
    "library(renv)\n",
    "library(tidymodels)\n",
    "library(tidyverse)\n",
    "library(leaps)\n",
    "library(caret)\n",
    "library(kknn)"
   ]
  },
  {
   "cell_type": "code",
   "execution_count": 21,
   "metadata": {
    "vscode": {
     "languageId": "r"
    }
   },
   "outputs": [
    {
     "name": "stderr",
     "output_type": "stream",
     "text": [
      "\u001b[1mRows: \u001b[22m\u001b[34m39644\u001b[39m \u001b[1mColumns: \u001b[22m\u001b[34m61\u001b[39m\n",
      "\u001b[36m──\u001b[39m \u001b[1mColumn specification\u001b[22m \u001b[36m─────────────────────────────────────────────────────────────────────────────────────────────\u001b[39m\n",
      "\u001b[1mDelimiter:\u001b[22m \",\"\n",
      "\u001b[31mchr\u001b[39m  (1): url\n",
      "\u001b[32mdbl\u001b[39m (60): timedelta, n_tokens_title, n_tokens_content, n_unique_tokens, n_no...\n",
      "\n",
      "\u001b[36mℹ\u001b[39m Use `spec()` to retrieve the full column specification for this data.\n",
      "\u001b[36mℹ\u001b[39m Specify the column types or set `show_col_types = FALSE` to quiet this message.\n"
     ]
    },
    {
     "data": {
      "text/plain": [
       "                                                                            \n",
       "1 function (..., list = character(), package = NULL, lib.loc = NULL,        \n",
       "2     verbose = getOption(\"verbose\"), envir = .GlobalEnv, overwrite = TRUE) \n",
       "3 {                                                                         \n",
       "4     fileExt <- function(x) {                                              \n",
       "5         db <- grepl(\"\\\\\\\\.[^.]+\\\\\\\\.(gz|bz2|xz)$\", x)                     \n",
       "6         ans <- sub(\".*\\\\\\\\.\", \"\", x)                                      "
      ]
     },
     "metadata": {},
     "output_type": "display_data"
    }
   ],
   "source": [
    "articles <- read_csv('data/OnlineNewsPopularity.csv')\n",
    "head(data)"
   ]
  },
  {
   "cell_type": "markdown",
   "metadata": {},
   "source": [
    "To lighten the compute load, going to drop columns that are more designed for natural language processing as well as `weekday_is_sunday` since the other 6 days are already present as attributes, meaning `weekday_is_sunday` will have no impact in the model."
   ]
  },
  {
   "cell_type": "code",
   "execution_count": 22,
   "metadata": {
    "vscode": {
     "languageId": "r"
    }
   },
   "outputs": [],
   "source": [
    "drop_columns <- c('url', 'timedelta', 'LDA_00', 'LDA_01', 'LDA_02','LDA_03','LDA_04', 'is_weekend', 'weekday_is_sunday',\n",
    "'global_subjectivity','global_sentiment_polarity','global_rate_positive_words','global_rate_negative_words',\n",
    "'rate_positive_words','rate_negative_words','avg_positive_polarity','min_positive_polarity','max_positive_polarity',\n",
    "'avg_negative_polarity','min_negative_polarity','max_negative_polarity','title_subjectivity','title_sentiment_polarity',\n",
    "'abs_title_subjectivity','abs_title_sentiment_polarity','kw_min_min','kw_max_min',\n",
    "'kw_avg_min','kw_min_max','kw_max_max','kw_avg_max','kw_min_avg','kw_max_avg','kw_avg_avg' )\n",
    "\n",
    "\n",
    "articles <- articles[, !(names(articles) %in% drop_columns)]"
   ]
  },
  {
   "cell_type": "markdown",
   "metadata": {},
   "source": []
  },
  {
   "cell_type": "code",
   "execution_count": 23,
   "metadata": {
    "vscode": {
     "languageId": "r"
    }
   },
   "outputs": [
    {
     "data": {
      "text/html": [
       "<table class=\"dataframe\">\n",
       "<caption>A tibble: 3 × 28</caption>\n",
       "<thead>\n",
       "\t<tr><th scope=col>n_tokens_title</th><th scope=col>n_tokens_content</th><th scope=col>n_unique_tokens</th><th scope=col>n_non_stop_words</th><th scope=col>n_non_stop_unique_tokens</th><th scope=col>num_hrefs</th><th scope=col>num_self_hrefs</th><th scope=col>num_imgs</th><th scope=col>num_videos</th><th scope=col>average_token_length</th><th scope=col>⋯</th><th scope=col>self_reference_max_shares</th><th scope=col>self_reference_avg_sharess</th><th scope=col>weekday_is_monday</th><th scope=col>weekday_is_tuesday</th><th scope=col>weekday_is_wednesday</th><th scope=col>weekday_is_thursday</th><th scope=col>weekday_is_friday</th><th scope=col>weekday_is_saturday</th><th scope=col>shares</th><th scope=col>ID</th></tr>\n",
       "\t<tr><th scope=col>&lt;dbl&gt;</th><th scope=col>&lt;dbl&gt;</th><th scope=col>&lt;dbl&gt;</th><th scope=col>&lt;dbl&gt;</th><th scope=col>&lt;dbl&gt;</th><th scope=col>&lt;dbl&gt;</th><th scope=col>&lt;dbl&gt;</th><th scope=col>&lt;dbl&gt;</th><th scope=col>&lt;dbl&gt;</th><th scope=col>&lt;dbl&gt;</th><th scope=col>⋯</th><th scope=col>&lt;dbl&gt;</th><th scope=col>&lt;dbl&gt;</th><th scope=col>&lt;dbl&gt;</th><th scope=col>&lt;dbl&gt;</th><th scope=col>&lt;dbl&gt;</th><th scope=col>&lt;dbl&gt;</th><th scope=col>&lt;dbl&gt;</th><th scope=col>&lt;dbl&gt;</th><th scope=col>&lt;dbl&gt;</th><th scope=col>&lt;int&gt;</th></tr>\n",
       "</thead>\n",
       "<tbody>\n",
       "\t<tr><td>9</td><td> 549</td><td>0.4935305</td><td>1</td><td>0.6827586</td><td> 8</td><td>7</td><td> 2</td><td>0</td><td>4.633880</td><td>⋯</td><td>3500</td><td>2396.5</td><td>0</td><td>1</td><td>0</td><td>0</td><td>0</td><td>0</td><td>1500</td><td>21029</td></tr>\n",
       "\t<tr><td>9</td><td> 452</td><td>0.5193622</td><td>1</td><td>0.6000000</td><td>18</td><td>1</td><td>13</td><td>0</td><td>4.692478</td><td>⋯</td><td> 803</td><td> 803.0</td><td>0</td><td>1</td><td>0</td><td>0</td><td>0</td><td>0</td><td>1400</td><td>19872</td></tr>\n",
       "\t<tr><td>7</td><td>1361</td><td>0.3924890</td><td>1</td><td>0.6248237</td><td> 8</td><td>3</td><td> 1</td><td>1</td><td>4.539309</td><td>⋯</td><td>4300</td><td>4300.0</td><td>1</td><td>0</td><td>0</td><td>0</td><td>0</td><td>0</td><td>1500</td><td> 7802</td></tr>\n",
       "</tbody>\n",
       "</table>\n"
      ],
      "text/latex": [
       "A tibble: 3 × 28\n",
       "\\begin{tabular}{lllllllllllllllllllll}\n",
       " n\\_tokens\\_title & n\\_tokens\\_content & n\\_unique\\_tokens & n\\_non\\_stop\\_words & n\\_non\\_stop\\_unique\\_tokens & num\\_hrefs & num\\_self\\_hrefs & num\\_imgs & num\\_videos & average\\_token\\_length & ⋯ & self\\_reference\\_max\\_shares & self\\_reference\\_avg\\_sharess & weekday\\_is\\_monday & weekday\\_is\\_tuesday & weekday\\_is\\_wednesday & weekday\\_is\\_thursday & weekday\\_is\\_friday & weekday\\_is\\_saturday & shares & ID\\\\\n",
       " <dbl> & <dbl> & <dbl> & <dbl> & <dbl> & <dbl> & <dbl> & <dbl> & <dbl> & <dbl> & ⋯ & <dbl> & <dbl> & <dbl> & <dbl> & <dbl> & <dbl> & <dbl> & <dbl> & <dbl> & <int>\\\\\n",
       "\\hline\n",
       "\t 9 &  549 & 0.4935305 & 1 & 0.6827586 &  8 & 7 &  2 & 0 & 4.633880 & ⋯ & 3500 & 2396.5 & 0 & 1 & 0 & 0 & 0 & 0 & 1500 & 21029\\\\\n",
       "\t 9 &  452 & 0.5193622 & 1 & 0.6000000 & 18 & 1 & 13 & 0 & 4.692478 & ⋯ &  803 &  803.0 & 0 & 1 & 0 & 0 & 0 & 0 & 1400 & 19872\\\\\n",
       "\t 7 & 1361 & 0.3924890 & 1 & 0.6248237 &  8 & 3 &  1 & 1 & 4.539309 & ⋯ & 4300 & 4300.0 & 1 & 0 & 0 & 0 & 0 & 0 & 1500 &  7802\\\\\n",
       "\\end{tabular}\n"
      ],
      "text/markdown": [
       "\n",
       "A tibble: 3 × 28\n",
       "\n",
       "| n_tokens_title &lt;dbl&gt; | n_tokens_content &lt;dbl&gt; | n_unique_tokens &lt;dbl&gt; | n_non_stop_words &lt;dbl&gt; | n_non_stop_unique_tokens &lt;dbl&gt; | num_hrefs &lt;dbl&gt; | num_self_hrefs &lt;dbl&gt; | num_imgs &lt;dbl&gt; | num_videos &lt;dbl&gt; | average_token_length &lt;dbl&gt; | ⋯ ⋯ | self_reference_max_shares &lt;dbl&gt; | self_reference_avg_sharess &lt;dbl&gt; | weekday_is_monday &lt;dbl&gt; | weekday_is_tuesday &lt;dbl&gt; | weekday_is_wednesday &lt;dbl&gt; | weekday_is_thursday &lt;dbl&gt; | weekday_is_friday &lt;dbl&gt; | weekday_is_saturday &lt;dbl&gt; | shares &lt;dbl&gt; | ID &lt;int&gt; |\n",
       "|---|---|---|---|---|---|---|---|---|---|---|---|---|---|---|---|---|---|---|---|---|\n",
       "| 9 |  549 | 0.4935305 | 1 | 0.6827586 |  8 | 7 |  2 | 0 | 4.633880 | ⋯ | 3500 | 2396.5 | 0 | 1 | 0 | 0 | 0 | 0 | 1500 | 21029 |\n",
       "| 9 |  452 | 0.5193622 | 1 | 0.6000000 | 18 | 1 | 13 | 0 | 4.692478 | ⋯ |  803 |  803.0 | 0 | 1 | 0 | 0 | 0 | 0 | 1400 | 19872 |\n",
       "| 7 | 1361 | 0.3924890 | 1 | 0.6248237 |  8 | 3 |  1 | 1 | 4.539309 | ⋯ | 4300 | 4300.0 | 1 | 0 | 0 | 0 | 0 | 0 | 1500 |  7802 |\n",
       "\n"
      ],
      "text/plain": [
       "  n_tokens_title n_tokens_content n_unique_tokens n_non_stop_words\n",
       "1 9               549             0.4935305       1               \n",
       "2 9               452             0.5193622       1               \n",
       "3 7              1361             0.3924890       1               \n",
       "  n_non_stop_unique_tokens num_hrefs num_self_hrefs num_imgs num_videos\n",
       "1 0.6827586                 8        7               2       0         \n",
       "2 0.6000000                18        1              13       0         \n",
       "3 0.6248237                 8        3               1       1         \n",
       "  average_token_length ⋯ self_reference_max_shares self_reference_avg_sharess\n",
       "1 4.633880             ⋯ 3500                      2396.5                    \n",
       "2 4.692478             ⋯  803                       803.0                    \n",
       "3 4.539309             ⋯ 4300                      4300.0                    \n",
       "  weekday_is_monday weekday_is_tuesday weekday_is_wednesday weekday_is_thursday\n",
       "1 0                 1                  0                    0                  \n",
       "2 0                 1                  0                    0                  \n",
       "3 1                 0                  0                    0                  \n",
       "  weekday_is_friday weekday_is_saturday shares ID   \n",
       "1 0                 0                   1500   21029\n",
       "2 0                 0                   1400   19872\n",
       "3 0                 0                   1500    7802"
      ]
     },
     "metadata": {},
     "output_type": "display_data"
    },
    {
     "data": {
      "text/html": [
       "27750"
      ],
      "text/latex": [
       "27750"
      ],
      "text/markdown": [
       "27750"
      ],
      "text/plain": [
       "[1] 27750"
      ]
     },
     "metadata": {},
     "output_type": "display_data"
    },
    {
     "data": {
      "text/html": [
       "<table class=\"dataframe\">\n",
       "<caption>A tibble: 3 × 28</caption>\n",
       "<thead>\n",
       "\t<tr><th scope=col>n_tokens_title</th><th scope=col>n_tokens_content</th><th scope=col>n_unique_tokens</th><th scope=col>n_non_stop_words</th><th scope=col>n_non_stop_unique_tokens</th><th scope=col>num_hrefs</th><th scope=col>num_self_hrefs</th><th scope=col>num_imgs</th><th scope=col>num_videos</th><th scope=col>average_token_length</th><th scope=col>⋯</th><th scope=col>self_reference_max_shares</th><th scope=col>self_reference_avg_sharess</th><th scope=col>weekday_is_monday</th><th scope=col>weekday_is_tuesday</th><th scope=col>weekday_is_wednesday</th><th scope=col>weekday_is_thursday</th><th scope=col>weekday_is_friday</th><th scope=col>weekday_is_saturday</th><th scope=col>shares</th><th scope=col>ID</th></tr>\n",
       "\t<tr><th scope=col>&lt;dbl&gt;</th><th scope=col>&lt;dbl&gt;</th><th scope=col>&lt;dbl&gt;</th><th scope=col>&lt;dbl&gt;</th><th scope=col>&lt;dbl&gt;</th><th scope=col>&lt;dbl&gt;</th><th scope=col>&lt;dbl&gt;</th><th scope=col>&lt;dbl&gt;</th><th scope=col>&lt;dbl&gt;</th><th scope=col>&lt;dbl&gt;</th><th scope=col>⋯</th><th scope=col>&lt;dbl&gt;</th><th scope=col>&lt;dbl&gt;</th><th scope=col>&lt;dbl&gt;</th><th scope=col>&lt;dbl&gt;</th><th scope=col>&lt;dbl&gt;</th><th scope=col>&lt;dbl&gt;</th><th scope=col>&lt;dbl&gt;</th><th scope=col>&lt;dbl&gt;</th><th scope=col>&lt;dbl&gt;</th><th scope=col>&lt;int&gt;</th></tr>\n",
       "</thead>\n",
       "<tbody>\n",
       "\t<tr><td>9</td><td>255</td><td>0.6047431</td><td>1</td><td>0.7919463</td><td>3</td><td>1</td><td>1</td><td> 0</td><td>4.913725</td><td>⋯</td><td>    0</td><td>    0</td><td>1</td><td>0</td><td>0</td><td>0</td><td>0</td><td>0</td><td>  711</td><td> 2</td></tr>\n",
       "\t<tr><td>9</td><td>211</td><td>0.5751295</td><td>1</td><td>0.6638655</td><td>3</td><td>1</td><td>1</td><td> 0</td><td>4.393365</td><td>⋯</td><td>  918</td><td>  918</td><td>1</td><td>0</td><td>0</td><td>0</td><td>0</td><td>0</td><td> 1500</td><td> 3</td></tr>\n",
       "\t<tr><td>9</td><td>285</td><td>0.7441860</td><td>1</td><td>0.8415301</td><td>4</td><td>2</td><td>0</td><td>21</td><td>4.343860</td><td>⋯</td><td>22800</td><td>11785</td><td>1</td><td>0</td><td>0</td><td>0</td><td>0</td><td>0</td><td>10000</td><td>14</td></tr>\n",
       "</tbody>\n",
       "</table>\n"
      ],
      "text/latex": [
       "A tibble: 3 × 28\n",
       "\\begin{tabular}{lllllllllllllllllllll}\n",
       " n\\_tokens\\_title & n\\_tokens\\_content & n\\_unique\\_tokens & n\\_non\\_stop\\_words & n\\_non\\_stop\\_unique\\_tokens & num\\_hrefs & num\\_self\\_hrefs & num\\_imgs & num\\_videos & average\\_token\\_length & ⋯ & self\\_reference\\_max\\_shares & self\\_reference\\_avg\\_sharess & weekday\\_is\\_monday & weekday\\_is\\_tuesday & weekday\\_is\\_wednesday & weekday\\_is\\_thursday & weekday\\_is\\_friday & weekday\\_is\\_saturday & shares & ID\\\\\n",
       " <dbl> & <dbl> & <dbl> & <dbl> & <dbl> & <dbl> & <dbl> & <dbl> & <dbl> & <dbl> & ⋯ & <dbl> & <dbl> & <dbl> & <dbl> & <dbl> & <dbl> & <dbl> & <dbl> & <dbl> & <int>\\\\\n",
       "\\hline\n",
       "\t 9 & 255 & 0.6047431 & 1 & 0.7919463 & 3 & 1 & 1 &  0 & 4.913725 & ⋯ &     0 &     0 & 1 & 0 & 0 & 0 & 0 & 0 &   711 &  2\\\\\n",
       "\t 9 & 211 & 0.5751295 & 1 & 0.6638655 & 3 & 1 & 1 &  0 & 4.393365 & ⋯ &   918 &   918 & 1 & 0 & 0 & 0 & 0 & 0 &  1500 &  3\\\\\n",
       "\t 9 & 285 & 0.7441860 & 1 & 0.8415301 & 4 & 2 & 0 & 21 & 4.343860 & ⋯ & 22800 & 11785 & 1 & 0 & 0 & 0 & 0 & 0 & 10000 & 14\\\\\n",
       "\\end{tabular}\n"
      ],
      "text/markdown": [
       "\n",
       "A tibble: 3 × 28\n",
       "\n",
       "| n_tokens_title &lt;dbl&gt; | n_tokens_content &lt;dbl&gt; | n_unique_tokens &lt;dbl&gt; | n_non_stop_words &lt;dbl&gt; | n_non_stop_unique_tokens &lt;dbl&gt; | num_hrefs &lt;dbl&gt; | num_self_hrefs &lt;dbl&gt; | num_imgs &lt;dbl&gt; | num_videos &lt;dbl&gt; | average_token_length &lt;dbl&gt; | ⋯ ⋯ | self_reference_max_shares &lt;dbl&gt; | self_reference_avg_sharess &lt;dbl&gt; | weekday_is_monday &lt;dbl&gt; | weekday_is_tuesday &lt;dbl&gt; | weekday_is_wednesday &lt;dbl&gt; | weekday_is_thursday &lt;dbl&gt; | weekday_is_friday &lt;dbl&gt; | weekday_is_saturday &lt;dbl&gt; | shares &lt;dbl&gt; | ID &lt;int&gt; |\n",
       "|---|---|---|---|---|---|---|---|---|---|---|---|---|---|---|---|---|---|---|---|---|\n",
       "| 9 | 255 | 0.6047431 | 1 | 0.7919463 | 3 | 1 | 1 |  0 | 4.913725 | ⋯ |     0 |     0 | 1 | 0 | 0 | 0 | 0 | 0 |   711 |  2 |\n",
       "| 9 | 211 | 0.5751295 | 1 | 0.6638655 | 3 | 1 | 1 |  0 | 4.393365 | ⋯ |   918 |   918 | 1 | 0 | 0 | 0 | 0 | 0 |  1500 |  3 |\n",
       "| 9 | 285 | 0.7441860 | 1 | 0.8415301 | 4 | 2 | 0 | 21 | 4.343860 | ⋯ | 22800 | 11785 | 1 | 0 | 0 | 0 | 0 | 0 | 10000 | 14 |\n",
       "\n"
      ],
      "text/plain": [
       "  n_tokens_title n_tokens_content n_unique_tokens n_non_stop_words\n",
       "1 9              255              0.6047431       1               \n",
       "2 9              211              0.5751295       1               \n",
       "3 9              285              0.7441860       1               \n",
       "  n_non_stop_unique_tokens num_hrefs num_self_hrefs num_imgs num_videos\n",
       "1 0.7919463                3         1              1         0        \n",
       "2 0.6638655                3         1              1         0        \n",
       "3 0.8415301                4         2              0        21        \n",
       "  average_token_length ⋯ self_reference_max_shares self_reference_avg_sharess\n",
       "1 4.913725             ⋯     0                         0                     \n",
       "2 4.393365             ⋯   918                       918                     \n",
       "3 4.343860             ⋯ 22800                     11785                     \n",
       "  weekday_is_monday weekday_is_tuesday weekday_is_wednesday weekday_is_thursday\n",
       "1 1                 0                  0                    0                  \n",
       "2 1                 0                  0                    0                  \n",
       "3 1                 0                  0                    0                  \n",
       "  weekday_is_friday weekday_is_saturday shares ID\n",
       "1 0                 0                     711   2\n",
       "2 0                 0                    1500   3\n",
       "3 0                 0                   10000  14"
      ]
     },
     "metadata": {},
     "output_type": "display_data"
    },
    {
     "data": {
      "text/html": [
       "11894"
      ],
      "text/latex": [
       "11894"
      ],
      "text/markdown": [
       "11894"
      ],
      "text/plain": [
       "[1] 11894"
      ]
     },
     "metadata": {},
     "output_type": "display_data"
    }
   ],
   "source": [
    "set.seed(2024)\n",
    "\n",
    "articles$ID <- 1:nrow(articles)\n",
    "\n",
    "training_articles <- sample_n(articles, size = nrow(articles) * 0.70, replace = FALSE)\n",
    "\n",
    "testing_articles <- anti_join(articles, training_articles, by = \"ID\")\n",
    "\n",
    "head(training_articles, 3)\n",
    "nrow(training_articles)\n",
    "\n",
    "head(testing_articles, 3)\n",
    "nrow(testing_articles)"
   ]
  },
  {
   "cell_type": "markdown",
   "metadata": {},
   "source": [
    "Going to fit an initial linear model using all attributes and ordinary least squares(OLS) to receive a baseline model"
   ]
  },
  {
   "cell_type": "code",
   "execution_count": 24,
   "metadata": {
    "vscode": {
     "languageId": "r"
    }
   },
   "outputs": [
    {
     "data": {
      "text/html": [
       "<table class=\"dataframe\">\n",
       "<caption>A tibble: 27 × 5</caption>\n",
       "<thead>\n",
       "\t<tr><th scope=col>term</th><th scope=col>estimate</th><th scope=col>std.error</th><th scope=col>statistic</th><th scope=col>p.value</th></tr>\n",
       "\t<tr><th scope=col>&lt;chr&gt;</th><th scope=col>&lt;dbl&gt;</th><th scope=col>&lt;dbl&gt;</th><th scope=col>&lt;dbl&gt;</th><th scope=col>&lt;dbl&gt;</th></tr>\n",
       "</thead>\n",
       "<tbody>\n",
       "\t<tr><td>(Intercept)                  </td><td> 4.928611e+03</td><td>6.568622e+02</td><td>  7.50326474</td><td>6.411454e-14</td></tr>\n",
       "\t<tr><td>n_tokens_title               </td><td> 9.308998e+01</td><td>3.263221e+01</td><td>  2.85270220</td><td>4.338129e-03</td></tr>\n",
       "\t<tr><td>n_tokens_content             </td><td> 2.824141e-01</td><td>2.510659e-01</td><td>  1.12486023</td><td>2.606580e-01</td></tr>\n",
       "\t<tr><td>n_unique_tokens              </td><td> 2.498136e+03</td><td>1.878005e+03</td><td>  1.33020752</td><td>1.834608e-01</td></tr>\n",
       "\t<tr><td>n_non_stop_words             </td><td>-6.728982e+02</td><td>7.093854e+02</td><td> -0.94856499</td><td>3.428502e-01</td></tr>\n",
       "\t<tr><td>n_non_stop_unique_tokens     </td><td>-1.611476e+03</td><td>1.625585e+03</td><td> -0.99132088</td><td>3.215376e-01</td></tr>\n",
       "\t<tr><td>num_hrefs                    </td><td> 4.471285e+01</td><td>7.501829e+00</td><td>  5.96026063</td><td>2.548771e-09</td></tr>\n",
       "\t<tr><td>num_self_hrefs               </td><td>-8.275621e+01</td><td>2.131307e+01</td><td> -3.88288605</td><td>1.034632e-04</td></tr>\n",
       "\t<tr><td>num_imgs                     </td><td> 1.562504e+01</td><td>1.036265e+01</td><td>  1.50782226</td><td>1.316114e-01</td></tr>\n",
       "\t<tr><td>num_videos                   </td><td> 4.884423e+00</td><td>1.816921e+01</td><td>  0.26882968</td><td>7.880628e-01</td></tr>\n",
       "\t<tr><td>average_token_length         </td><td>-2.004602e+02</td><td>9.571004e+01</td><td> -2.09445362</td><td>3.622865e-02</td></tr>\n",
       "\t<tr><td>num_keywords                 </td><td> 9.520823e+01</td><td>3.734699e+01</td><td>  2.54928801</td><td>1.079965e-02</td></tr>\n",
       "\t<tr><td>data_channel_is_lifestyle    </td><td>-2.145597e+03</td><td>3.612431e+02</td><td> -5.93948276</td><td>2.893287e-09</td></tr>\n",
       "\t<tr><td>data_channel_is_entertainment</td><td>-2.765984e+03</td><td>2.505109e+02</td><td>-11.04137133</td><td>2.764283e-28</td></tr>\n",
       "\t<tr><td>data_channel_is_bus          </td><td>-2.693086e+03</td><td>2.728896e+02</td><td> -9.86877387</td><td>6.202837e-23</td></tr>\n",
       "\t<tr><td>data_channel_is_socmed       </td><td>-2.124679e+03</td><td>3.484398e+02</td><td> -6.09769360</td><td>1.090307e-09</td></tr>\n",
       "\t<tr><td>data_channel_is_tech         </td><td>-2.451461e+03</td><td>2.624863e+02</td><td> -9.33938840</td><td>1.039204e-20</td></tr>\n",
       "\t<tr><td>data_channel_is_world        </td><td>-3.300424e+03</td><td>2.559384e+02</td><td>-12.89538477</td><td>6.144317e-38</td></tr>\n",
       "\t<tr><td>self_reference_min_shares    </td><td> 1.040951e-02</td><td>9.497897e-03</td><td>  1.09598096</td><td>2.730966e-01</td></tr>\n",
       "\t<tr><td>self_reference_max_shares    </td><td> 9.034084e-03</td><td>4.959636e-03</td><td>  1.82152170</td><td>6.853836e-02</td></tr>\n",
       "\t<tr><td>self_reference_avg_sharess   </td><td>-2.941978e-03</td><td>1.315870e-02</td><td> -0.22357660</td><td>8.230884e-01</td></tr>\n",
       "\t<tr><td>weekday_is_monday            </td><td>-1.018916e+02</td><td>3.089053e+02</td><td> -0.32984743</td><td>7.415177e-01</td></tr>\n",
       "\t<tr><td>weekday_is_tuesday           </td><td>-1.436075e+02</td><td>3.043800e+02</td><td> -0.47180326</td><td>6.370709e-01</td></tr>\n",
       "\t<tr><td>weekday_is_wednesday         </td><td>-1.104697e+01</td><td>3.042042e+02</td><td> -0.03631434</td><td>9.710320e-01</td></tr>\n",
       "\t<tr><td>weekday_is_thursday          </td><td>-2.880335e+02</td><td>3.050302e+02</td><td> -0.94427870</td><td>3.450355e-01</td></tr>\n",
       "\t<tr><td>weekday_is_friday            </td><td>-2.584044e+02</td><td>3.162368e+02</td><td> -0.81712294</td><td>4.138652e-01</td></tr>\n",
       "\t<tr><td>weekday_is_saturday          </td><td> 4.994014e+02</td><td>3.780837e+02</td><td>  1.32087533</td><td>1.865538e-01</td></tr>\n",
       "</tbody>\n",
       "</table>\n"
      ],
      "text/latex": [
       "A tibble: 27 × 5\n",
       "\\begin{tabular}{lllll}\n",
       " term & estimate & std.error & statistic & p.value\\\\\n",
       " <chr> & <dbl> & <dbl> & <dbl> & <dbl>\\\\\n",
       "\\hline\n",
       "\t (Intercept)                   &  4.928611e+03 & 6.568622e+02 &   7.50326474 & 6.411454e-14\\\\\n",
       "\t n\\_tokens\\_title                &  9.308998e+01 & 3.263221e+01 &   2.85270220 & 4.338129e-03\\\\\n",
       "\t n\\_tokens\\_content              &  2.824141e-01 & 2.510659e-01 &   1.12486023 & 2.606580e-01\\\\\n",
       "\t n\\_unique\\_tokens               &  2.498136e+03 & 1.878005e+03 &   1.33020752 & 1.834608e-01\\\\\n",
       "\t n\\_non\\_stop\\_words              & -6.728982e+02 & 7.093854e+02 &  -0.94856499 & 3.428502e-01\\\\\n",
       "\t n\\_non\\_stop\\_unique\\_tokens      & -1.611476e+03 & 1.625585e+03 &  -0.99132088 & 3.215376e-01\\\\\n",
       "\t num\\_hrefs                     &  4.471285e+01 & 7.501829e+00 &   5.96026063 & 2.548771e-09\\\\\n",
       "\t num\\_self\\_hrefs                & -8.275621e+01 & 2.131307e+01 &  -3.88288605 & 1.034632e-04\\\\\n",
       "\t num\\_imgs                      &  1.562504e+01 & 1.036265e+01 &   1.50782226 & 1.316114e-01\\\\\n",
       "\t num\\_videos                    &  4.884423e+00 & 1.816921e+01 &   0.26882968 & 7.880628e-01\\\\\n",
       "\t average\\_token\\_length          & -2.004602e+02 & 9.571004e+01 &  -2.09445362 & 3.622865e-02\\\\\n",
       "\t num\\_keywords                  &  9.520823e+01 & 3.734699e+01 &   2.54928801 & 1.079965e-02\\\\\n",
       "\t data\\_channel\\_is\\_lifestyle     & -2.145597e+03 & 3.612431e+02 &  -5.93948276 & 2.893287e-09\\\\\n",
       "\t data\\_channel\\_is\\_entertainment & -2.765984e+03 & 2.505109e+02 & -11.04137133 & 2.764283e-28\\\\\n",
       "\t data\\_channel\\_is\\_bus           & -2.693086e+03 & 2.728896e+02 &  -9.86877387 & 6.202837e-23\\\\\n",
       "\t data\\_channel\\_is\\_socmed        & -2.124679e+03 & 3.484398e+02 &  -6.09769360 & 1.090307e-09\\\\\n",
       "\t data\\_channel\\_is\\_tech          & -2.451461e+03 & 2.624863e+02 &  -9.33938840 & 1.039204e-20\\\\\n",
       "\t data\\_channel\\_is\\_world         & -3.300424e+03 & 2.559384e+02 & -12.89538477 & 6.144317e-38\\\\\n",
       "\t self\\_reference\\_min\\_shares     &  1.040951e-02 & 9.497897e-03 &   1.09598096 & 2.730966e-01\\\\\n",
       "\t self\\_reference\\_max\\_shares     &  9.034084e-03 & 4.959636e-03 &   1.82152170 & 6.853836e-02\\\\\n",
       "\t self\\_reference\\_avg\\_sharess    & -2.941978e-03 & 1.315870e-02 &  -0.22357660 & 8.230884e-01\\\\\n",
       "\t weekday\\_is\\_monday             & -1.018916e+02 & 3.089053e+02 &  -0.32984743 & 7.415177e-01\\\\\n",
       "\t weekday\\_is\\_tuesday            & -1.436075e+02 & 3.043800e+02 &  -0.47180326 & 6.370709e-01\\\\\n",
       "\t weekday\\_is\\_wednesday          & -1.104697e+01 & 3.042042e+02 &  -0.03631434 & 9.710320e-01\\\\\n",
       "\t weekday\\_is\\_thursday           & -2.880335e+02 & 3.050302e+02 &  -0.94427870 & 3.450355e-01\\\\\n",
       "\t weekday\\_is\\_friday             & -2.584044e+02 & 3.162368e+02 &  -0.81712294 & 4.138652e-01\\\\\n",
       "\t weekday\\_is\\_saturday           &  4.994014e+02 & 3.780837e+02 &   1.32087533 & 1.865538e-01\\\\\n",
       "\\end{tabular}\n"
      ],
      "text/markdown": [
       "\n",
       "A tibble: 27 × 5\n",
       "\n",
       "| term &lt;chr&gt; | estimate &lt;dbl&gt; | std.error &lt;dbl&gt; | statistic &lt;dbl&gt; | p.value &lt;dbl&gt; |\n",
       "|---|---|---|---|---|\n",
       "| (Intercept)                   |  4.928611e+03 | 6.568622e+02 |   7.50326474 | 6.411454e-14 |\n",
       "| n_tokens_title                |  9.308998e+01 | 3.263221e+01 |   2.85270220 | 4.338129e-03 |\n",
       "| n_tokens_content              |  2.824141e-01 | 2.510659e-01 |   1.12486023 | 2.606580e-01 |\n",
       "| n_unique_tokens               |  2.498136e+03 | 1.878005e+03 |   1.33020752 | 1.834608e-01 |\n",
       "| n_non_stop_words              | -6.728982e+02 | 7.093854e+02 |  -0.94856499 | 3.428502e-01 |\n",
       "| n_non_stop_unique_tokens      | -1.611476e+03 | 1.625585e+03 |  -0.99132088 | 3.215376e-01 |\n",
       "| num_hrefs                     |  4.471285e+01 | 7.501829e+00 |   5.96026063 | 2.548771e-09 |\n",
       "| num_self_hrefs                | -8.275621e+01 | 2.131307e+01 |  -3.88288605 | 1.034632e-04 |\n",
       "| num_imgs                      |  1.562504e+01 | 1.036265e+01 |   1.50782226 | 1.316114e-01 |\n",
       "| num_videos                    |  4.884423e+00 | 1.816921e+01 |   0.26882968 | 7.880628e-01 |\n",
       "| average_token_length          | -2.004602e+02 | 9.571004e+01 |  -2.09445362 | 3.622865e-02 |\n",
       "| num_keywords                  |  9.520823e+01 | 3.734699e+01 |   2.54928801 | 1.079965e-02 |\n",
       "| data_channel_is_lifestyle     | -2.145597e+03 | 3.612431e+02 |  -5.93948276 | 2.893287e-09 |\n",
       "| data_channel_is_entertainment | -2.765984e+03 | 2.505109e+02 | -11.04137133 | 2.764283e-28 |\n",
       "| data_channel_is_bus           | -2.693086e+03 | 2.728896e+02 |  -9.86877387 | 6.202837e-23 |\n",
       "| data_channel_is_socmed        | -2.124679e+03 | 3.484398e+02 |  -6.09769360 | 1.090307e-09 |\n",
       "| data_channel_is_tech          | -2.451461e+03 | 2.624863e+02 |  -9.33938840 | 1.039204e-20 |\n",
       "| data_channel_is_world         | -3.300424e+03 | 2.559384e+02 | -12.89538477 | 6.144317e-38 |\n",
       "| self_reference_min_shares     |  1.040951e-02 | 9.497897e-03 |   1.09598096 | 2.730966e-01 |\n",
       "| self_reference_max_shares     |  9.034084e-03 | 4.959636e-03 |   1.82152170 | 6.853836e-02 |\n",
       "| self_reference_avg_sharess    | -2.941978e-03 | 1.315870e-02 |  -0.22357660 | 8.230884e-01 |\n",
       "| weekday_is_monday             | -1.018916e+02 | 3.089053e+02 |  -0.32984743 | 7.415177e-01 |\n",
       "| weekday_is_tuesday            | -1.436075e+02 | 3.043800e+02 |  -0.47180326 | 6.370709e-01 |\n",
       "| weekday_is_wednesday          | -1.104697e+01 | 3.042042e+02 |  -0.03631434 | 9.710320e-01 |\n",
       "| weekday_is_thursday           | -2.880335e+02 | 3.050302e+02 |  -0.94427870 | 3.450355e-01 |\n",
       "| weekday_is_friday             | -2.584044e+02 | 3.162368e+02 |  -0.81712294 | 4.138652e-01 |\n",
       "| weekday_is_saturday           |  4.994014e+02 | 3.780837e+02 |   1.32087533 | 1.865538e-01 |\n",
       "\n"
      ],
      "text/plain": [
       "   term                          estimate      std.error    statistic   \n",
       "1  (Intercept)                    4.928611e+03 6.568622e+02   7.50326474\n",
       "2  n_tokens_title                 9.308998e+01 3.263221e+01   2.85270220\n",
       "3  n_tokens_content               2.824141e-01 2.510659e-01   1.12486023\n",
       "4  n_unique_tokens                2.498136e+03 1.878005e+03   1.33020752\n",
       "5  n_non_stop_words              -6.728982e+02 7.093854e+02  -0.94856499\n",
       "6  n_non_stop_unique_tokens      -1.611476e+03 1.625585e+03  -0.99132088\n",
       "7  num_hrefs                      4.471285e+01 7.501829e+00   5.96026063\n",
       "8  num_self_hrefs                -8.275621e+01 2.131307e+01  -3.88288605\n",
       "9  num_imgs                       1.562504e+01 1.036265e+01   1.50782226\n",
       "10 num_videos                     4.884423e+00 1.816921e+01   0.26882968\n",
       "11 average_token_length          -2.004602e+02 9.571004e+01  -2.09445362\n",
       "12 num_keywords                   9.520823e+01 3.734699e+01   2.54928801\n",
       "13 data_channel_is_lifestyle     -2.145597e+03 3.612431e+02  -5.93948276\n",
       "14 data_channel_is_entertainment -2.765984e+03 2.505109e+02 -11.04137133\n",
       "15 data_channel_is_bus           -2.693086e+03 2.728896e+02  -9.86877387\n",
       "16 data_channel_is_socmed        -2.124679e+03 3.484398e+02  -6.09769360\n",
       "17 data_channel_is_tech          -2.451461e+03 2.624863e+02  -9.33938840\n",
       "18 data_channel_is_world         -3.300424e+03 2.559384e+02 -12.89538477\n",
       "19 self_reference_min_shares      1.040951e-02 9.497897e-03   1.09598096\n",
       "20 self_reference_max_shares      9.034084e-03 4.959636e-03   1.82152170\n",
       "21 self_reference_avg_sharess    -2.941978e-03 1.315870e-02  -0.22357660\n",
       "22 weekday_is_monday             -1.018916e+02 3.089053e+02  -0.32984743\n",
       "23 weekday_is_tuesday            -1.436075e+02 3.043800e+02  -0.47180326\n",
       "24 weekday_is_wednesday          -1.104697e+01 3.042042e+02  -0.03631434\n",
       "25 weekday_is_thursday           -2.880335e+02 3.050302e+02  -0.94427870\n",
       "26 weekday_is_friday             -2.584044e+02 3.162368e+02  -0.81712294\n",
       "27 weekday_is_saturday            4.994014e+02 3.780837e+02   1.32087533\n",
       "   p.value     \n",
       "1  6.411454e-14\n",
       "2  4.338129e-03\n",
       "3  2.606580e-01\n",
       "4  1.834608e-01\n",
       "5  3.428502e-01\n",
       "6  3.215376e-01\n",
       "7  2.548771e-09\n",
       "8  1.034632e-04\n",
       "9  1.316114e-01\n",
       "10 7.880628e-01\n",
       "11 3.622865e-02\n",
       "12 1.079965e-02\n",
       "13 2.893287e-09\n",
       "14 2.764283e-28\n",
       "15 6.202837e-23\n",
       "16 1.090307e-09\n",
       "17 1.039204e-20\n",
       "18 6.144317e-38\n",
       "19 2.730966e-01\n",
       "20 6.853836e-02\n",
       "21 8.230884e-01\n",
       "22 7.415177e-01\n",
       "23 6.370709e-01\n",
       "24 9.710320e-01\n",
       "25 3.450355e-01\n",
       "26 4.138652e-01\n",
       "27 1.865538e-01"
      ]
     },
     "metadata": {},
     "output_type": "display_data"
    }
   ],
   "source": [
    "article_full_OLS <- lm(shares ~ ., data = training_articles[,-28])\n",
    "\n",
    "tidy(article_full_OLS)"
   ]
  },
  {
   "cell_type": "code",
   "execution_count": 25,
   "metadata": {
    "vscode": {
     "languageId": "r"
    }
   },
   "outputs": [
    {
     "data": {
      "text/html": [
       "<style>\n",
       ".dl-inline {width: auto; margin:0; padding: 0}\n",
       ".dl-inline>dt, .dl-inline>dd {float: none; width: auto; display: inline-block}\n",
       ".dl-inline>dt::after {content: \":\\0020\"; padding-right: .5ex}\n",
       ".dl-inline>dt:not(:first-of-type) {padding-left: .5ex}\n",
       "</style><dl class=dl-inline><dt>1</dt><dd>2067.92239633147</dd><dt>2</dt><dd>2497.79318655365</dd><dt>3</dt><dd>5570.80237768812</dd><dt>4</dt><dd>4869.70227230579</dd><dt>5</dt><dd>3230.05671717486</dd><dt>6</dt><dd>1902.57629755511</dd></dl>\n"
      ],
      "text/latex": [
       "\\begin{description*}\n",
       "\\item[1] 2067.92239633147\n",
       "\\item[2] 2497.79318655365\n",
       "\\item[3] 5570.80237768812\n",
       "\\item[4] 4869.70227230579\n",
       "\\item[5] 3230.05671717486\n",
       "\\item[6] 1902.57629755511\n",
       "\\end{description*}\n"
      ],
      "text/markdown": [
       "1\n",
       ":   2067.922396331472\n",
       ":   2497.793186553653\n",
       ":   5570.802377688124\n",
       ":   4869.702272305795\n",
       ":   3230.056717174866\n",
       ":   1902.57629755511\n",
       "\n"
      ],
      "text/plain": [
       "       1        2        3        4        5        6 \n",
       "2067.922 2497.793 5570.802 4869.702 3230.057 1902.576 "
      ]
     },
     "metadata": {},
     "output_type": "display_data"
    }
   ],
   "source": [
    "articles_test_pred_full_OLS <- predict(article_full_OLS, newdata = testing_articles[, -28])\n",
    "head(articles_test_pred_full_OLS)"
   ]
  },
  {
   "cell_type": "code",
   "execution_count": 26,
   "metadata": {
    "vscode": {
     "languageId": "r"
    }
   },
   "outputs": [
    {
     "data": {
      "text/html": [
       "<table class=\"dataframe\">\n",
       "<caption>A tibble: 1 × 2</caption>\n",
       "<thead>\n",
       "\t<tr><th scope=col>Model</th><th scope=col>RMSE</th></tr>\n",
       "\t<tr><th scope=col>&lt;chr&gt;</th><th scope=col>&lt;dbl&gt;</th></tr>\n",
       "</thead>\n",
       "<tbody>\n",
       "\t<tr><td>OLS Full Regression</td><td>12079.27</td></tr>\n",
       "</tbody>\n",
       "</table>\n"
      ],
      "text/latex": [
       "A tibble: 1 × 2\n",
       "\\begin{tabular}{ll}\n",
       " Model & RMSE\\\\\n",
       " <chr> & <dbl>\\\\\n",
       "\\hline\n",
       "\t OLS Full Regression & 12079.27\\\\\n",
       "\\end{tabular}\n"
      ],
      "text/markdown": [
       "\n",
       "A tibble: 1 × 2\n",
       "\n",
       "| Model &lt;chr&gt; | RMSE &lt;dbl&gt; |\n",
       "|---|---|\n",
       "| OLS Full Regression | 12079.27 |\n",
       "\n"
      ],
      "text/plain": [
       "  Model               RMSE    \n",
       "1 OLS Full Regression 12079.27"
      ]
     },
     "metadata": {},
     "output_type": "display_data"
    }
   ],
   "source": [
    "articles_RMSE_models <- tibble(\n",
    "    Model = 'OLS Full Regression',\n",
    "    RMSE = RMSE(\n",
    "        articles_test_pred_full_OLS,\n",
    "        testing_articles$shares\n",
    "    )\n",
    ")\n",
    "articles_RMSE_models"
   ]
  },
  {
   "cell_type": "markdown",
   "metadata": {},
   "source": [
    "Since we have multiple attributes, we wish to find the most significant attributes that contribute the most to the amount of shares an article receives. We will do so using forward selection by way of the `tidymodels` package."
   ]
  },
  {
   "cell_type": "code",
   "execution_count": 27,
   "metadata": {
    "vscode": {
     "languageId": "r"
    }
   },
   "outputs": [
    {
     "data": {
      "text/plain": [
       "Subset selection object\n",
       "Call: regsubsets.formula(x = shares ~ ., nvmax = 27, data = training_articles[, \n",
       "    -28], method = \"forward\")\n",
       "26 Variables  (and intercept)\n",
       "                              Forced in Forced out\n",
       "n_tokens_title                    FALSE      FALSE\n",
       "n_tokens_content                  FALSE      FALSE\n",
       "n_unique_tokens                   FALSE      FALSE\n",
       "n_non_stop_words                  FALSE      FALSE\n",
       "n_non_stop_unique_tokens          FALSE      FALSE\n",
       "num_hrefs                         FALSE      FALSE\n",
       "num_self_hrefs                    FALSE      FALSE\n",
       "num_imgs                          FALSE      FALSE\n",
       "num_videos                        FALSE      FALSE\n",
       "average_token_length              FALSE      FALSE\n",
       "num_keywords                      FALSE      FALSE\n",
       "data_channel_is_lifestyle         FALSE      FALSE\n",
       "data_channel_is_entertainment     FALSE      FALSE\n",
       "data_channel_is_bus               FALSE      FALSE\n",
       "data_channel_is_socmed            FALSE      FALSE\n",
       "data_channel_is_tech              FALSE      FALSE\n",
       "data_channel_is_world             FALSE      FALSE\n",
       "self_reference_min_shares         FALSE      FALSE\n",
       "self_reference_max_shares         FALSE      FALSE\n",
       "self_reference_avg_sharess        FALSE      FALSE\n",
       "weekday_is_monday                 FALSE      FALSE\n",
       "weekday_is_tuesday                FALSE      FALSE\n",
       "weekday_is_wednesday              FALSE      FALSE\n",
       "weekday_is_thursday               FALSE      FALSE\n",
       "weekday_is_friday                 FALSE      FALSE\n",
       "weekday_is_saturday               FALSE      FALSE\n",
       "1 subsets of each size up to 26\n",
       "Selection Algorithm: forward\n",
       "          n_tokens_title n_tokens_content n_unique_tokens n_non_stop_words\n",
       "1  ( 1 )  \" \"            \" \"              \" \"             \" \"             \n",
       "2  ( 1 )  \" \"            \" \"              \" \"             \" \"             \n",
       "3  ( 1 )  \" \"            \" \"              \" \"             \" \"             \n",
       "4  ( 1 )  \" \"            \" \"              \" \"             \" \"             \n",
       "5  ( 1 )  \" \"            \" \"              \" \"             \" \"             \n",
       "6  ( 1 )  \" \"            \" \"              \" \"             \" \"             \n",
       "7  ( 1 )  \" \"            \" \"              \" \"             \" \"             \n",
       "8  ( 1 )  \" \"            \" \"              \" \"             \" \"             \n",
       "9  ( 1 )  \" \"            \" \"              \" \"             \" \"             \n",
       "10  ( 1 ) \" \"            \" \"              \" \"             \" \"             \n",
       "11  ( 1 ) \"*\"            \" \"              \" \"             \" \"             \n",
       "12  ( 1 ) \"*\"            \" \"              \" \"             \" \"             \n",
       "13  ( 1 ) \"*\"            \" \"              \" \"             \" \"             \n",
       "14  ( 1 ) \"*\"            \" \"              \" \"             \" \"             \n",
       "15  ( 1 ) \"*\"            \" \"              \" \"             \" \"             \n",
       "16  ( 1 ) \"*\"            \" \"              \" \"             \" \"             \n",
       "17  ( 1 ) \"*\"            \" \"              \" \"             \" \"             \n",
       "18  ( 1 ) \"*\"            \" \"              \" \"             \" \"             \n",
       "19  ( 1 ) \"*\"            \" \"              \" \"             \" \"             \n",
       "20  ( 1 ) \"*\"            \" \"              \" \"             \" \"             \n",
       "21  ( 1 ) \"*\"            \" \"              \" \"             \" \"             \n",
       "22  ( 1 ) \"*\"            \"*\"              \" \"             \" \"             \n",
       "23  ( 1 ) \"*\"            \"*\"              \"*\"             \" \"             \n",
       "24  ( 1 ) \"*\"            \"*\"              \"*\"             \" \"             \n",
       "25  ( 1 ) \"*\"            \"*\"              \"*\"             \"*\"             \n",
       "26  ( 1 ) \"*\"            \"*\"              \"*\"             \"*\"             \n",
       "          n_non_stop_unique_tokens num_hrefs num_self_hrefs num_imgs num_videos\n",
       "1  ( 1 )  \" \"                      \"*\"       \" \"            \" \"      \" \"       \n",
       "2  ( 1 )  \" \"                      \"*\"       \" \"            \" \"      \" \"       \n",
       "3  ( 1 )  \" \"                      \"*\"       \" \"            \" \"      \" \"       \n",
       "4  ( 1 )  \" \"                      \"*\"       \" \"            \" \"      \" \"       \n",
       "5  ( 1 )  \" \"                      \"*\"       \"*\"            \" \"      \" \"       \n",
       "6  ( 1 )  \" \"                      \"*\"       \"*\"            \" \"      \" \"       \n",
       "7  ( 1 )  \" \"                      \"*\"       \"*\"            \" \"      \" \"       \n",
       "8  ( 1 )  \" \"                      \"*\"       \"*\"            \" \"      \" \"       \n",
       "9  ( 1 )  \" \"                      \"*\"       \"*\"            \" \"      \" \"       \n",
       "10  ( 1 ) \" \"                      \"*\"       \"*\"            \" \"      \" \"       \n",
       "11  ( 1 ) \" \"                      \"*\"       \"*\"            \" \"      \" \"       \n",
       "12  ( 1 ) \" \"                      \"*\"       \"*\"            \" \"      \" \"       \n",
       "13  ( 1 ) \" \"                      \"*\"       \"*\"            \" \"      \" \"       \n",
       "14  ( 1 ) \" \"                      \"*\"       \"*\"            \"*\"      \" \"       \n",
       "15  ( 1 ) \" \"                      \"*\"       \"*\"            \"*\"      \" \"       \n",
       "16  ( 1 ) \" \"                      \"*\"       \"*\"            \"*\"      \" \"       \n",
       "17  ( 1 ) \" \"                      \"*\"       \"*\"            \"*\"      \" \"       \n",
       "18  ( 1 ) \" \"                      \"*\"       \"*\"            \"*\"      \" \"       \n",
       "19  ( 1 ) \" \"                      \"*\"       \"*\"            \"*\"      \" \"       \n",
       "20  ( 1 ) \" \"                      \"*\"       \"*\"            \"*\"      \" \"       \n",
       "21  ( 1 ) \" \"                      \"*\"       \"*\"            \"*\"      \"*\"       \n",
       "22  ( 1 ) \" \"                      \"*\"       \"*\"            \"*\"      \"*\"       \n",
       "23  ( 1 ) \" \"                      \"*\"       \"*\"            \"*\"      \"*\"       \n",
       "24  ( 1 ) \"*\"                      \"*\"       \"*\"            \"*\"      \"*\"       \n",
       "25  ( 1 ) \"*\"                      \"*\"       \"*\"            \"*\"      \"*\"       \n",
       "26  ( 1 ) \"*\"                      \"*\"       \"*\"            \"*\"      \"*\"       \n",
       "          average_token_length num_keywords data_channel_is_lifestyle\n",
       "1  ( 1 )  \" \"                  \" \"          \" \"                      \n",
       "2  ( 1 )  \" \"                  \" \"          \" \"                      \n",
       "3  ( 1 )  \" \"                  \" \"          \" \"                      \n",
       "4  ( 1 )  \"*\"                  \" \"          \" \"                      \n",
       "5  ( 1 )  \"*\"                  \" \"          \" \"                      \n",
       "6  ( 1 )  \"*\"                  \" \"          \" \"                      \n",
       "7  ( 1 )  \"*\"                  \" \"          \" \"                      \n",
       "8  ( 1 )  \"*\"                  \" \"          \" \"                      \n",
       "9  ( 1 )  \"*\"                  \" \"          \" \"                      \n",
       "10  ( 1 ) \"*\"                  \" \"          \"*\"                      \n",
       "11  ( 1 ) \"*\"                  \" \"          \"*\"                      \n",
       "12  ( 1 ) \"*\"                  \"*\"          \"*\"                      \n",
       "13  ( 1 ) \"*\"                  \"*\"          \"*\"                      \n",
       "14  ( 1 ) \"*\"                  \"*\"          \"*\"                      \n",
       "15  ( 1 ) \"*\"                  \"*\"          \"*\"                      \n",
       "16  ( 1 ) \"*\"                  \"*\"          \"*\"                      \n",
       "17  ( 1 ) \"*\"                  \"*\"          \"*\"                      \n",
       "18  ( 1 ) \"*\"                  \"*\"          \"*\"                      \n",
       "19  ( 1 ) \"*\"                  \"*\"          \"*\"                      \n",
       "20  ( 1 ) \"*\"                  \"*\"          \"*\"                      \n",
       "21  ( 1 ) \"*\"                  \"*\"          \"*\"                      \n",
       "22  ( 1 ) \"*\"                  \"*\"          \"*\"                      \n",
       "23  ( 1 ) \"*\"                  \"*\"          \"*\"                      \n",
       "24  ( 1 ) \"*\"                  \"*\"          \"*\"                      \n",
       "25  ( 1 ) \"*\"                  \"*\"          \"*\"                      \n",
       "26  ( 1 ) \"*\"                  \"*\"          \"*\"                      \n",
       "          data_channel_is_entertainment data_channel_is_bus\n",
       "1  ( 1 )  \" \"                           \" \"                \n",
       "2  ( 1 )  \" \"                           \" \"                \n",
       "3  ( 1 )  \" \"                           \" \"                \n",
       "4  ( 1 )  \" \"                           \" \"                \n",
       "5  ( 1 )  \" \"                           \" \"                \n",
       "6  ( 1 )  \" \"                           \"*\"                \n",
       "7  ( 1 )  \"*\"                           \"*\"                \n",
       "8  ( 1 )  \"*\"                           \"*\"                \n",
       "9  ( 1 )  \"*\"                           \"*\"                \n",
       "10  ( 1 ) \"*\"                           \"*\"                \n",
       "11  ( 1 ) \"*\"                           \"*\"                \n",
       "12  ( 1 ) \"*\"                           \"*\"                \n",
       "13  ( 1 ) \"*\"                           \"*\"                \n",
       "14  ( 1 ) \"*\"                           \"*\"                \n",
       "15  ( 1 ) \"*\"                           \"*\"                \n",
       "16  ( 1 ) \"*\"                           \"*\"                \n",
       "17  ( 1 ) \"*\"                           \"*\"                \n",
       "18  ( 1 ) \"*\"                           \"*\"                \n",
       "19  ( 1 ) \"*\"                           \"*\"                \n",
       "20  ( 1 ) \"*\"                           \"*\"                \n",
       "21  ( 1 ) \"*\"                           \"*\"                \n",
       "22  ( 1 ) \"*\"                           \"*\"                \n",
       "23  ( 1 ) \"*\"                           \"*\"                \n",
       "24  ( 1 ) \"*\"                           \"*\"                \n",
       "25  ( 1 ) \"*\"                           \"*\"                \n",
       "26  ( 1 ) \"*\"                           \"*\"                \n",
       "          data_channel_is_socmed data_channel_is_tech data_channel_is_world\n",
       "1  ( 1 )  \" \"                    \" \"                  \" \"                  \n",
       "2  ( 1 )  \" \"                    \" \"                  \"*\"                  \n",
       "3  ( 1 )  \" \"                    \" \"                  \"*\"                  \n",
       "4  ( 1 )  \" \"                    \" \"                  \"*\"                  \n",
       "5  ( 1 )  \" \"                    \" \"                  \"*\"                  \n",
       "6  ( 1 )  \" \"                    \" \"                  \"*\"                  \n",
       "7  ( 1 )  \" \"                    \" \"                  \"*\"                  \n",
       "8  ( 1 )  \" \"                    \"*\"                  \"*\"                  \n",
       "9  ( 1 )  \"*\"                    \"*\"                  \"*\"                  \n",
       "10  ( 1 ) \"*\"                    \"*\"                  \"*\"                  \n",
       "11  ( 1 ) \"*\"                    \"*\"                  \"*\"                  \n",
       "12  ( 1 ) \"*\"                    \"*\"                  \"*\"                  \n",
       "13  ( 1 ) \"*\"                    \"*\"                  \"*\"                  \n",
       "14  ( 1 ) \"*\"                    \"*\"                  \"*\"                  \n",
       "15  ( 1 ) \"*\"                    \"*\"                  \"*\"                  \n",
       "16  ( 1 ) \"*\"                    \"*\"                  \"*\"                  \n",
       "17  ( 1 ) \"*\"                    \"*\"                  \"*\"                  \n",
       "18  ( 1 ) \"*\"                    \"*\"                  \"*\"                  \n",
       "19  ( 1 ) \"*\"                    \"*\"                  \"*\"                  \n",
       "20  ( 1 ) \"*\"                    \"*\"                  \"*\"                  \n",
       "21  ( 1 ) \"*\"                    \"*\"                  \"*\"                  \n",
       "22  ( 1 ) \"*\"                    \"*\"                  \"*\"                  \n",
       "23  ( 1 ) \"*\"                    \"*\"                  \"*\"                  \n",
       "24  ( 1 ) \"*\"                    \"*\"                  \"*\"                  \n",
       "25  ( 1 ) \"*\"                    \"*\"                  \"*\"                  \n",
       "26  ( 1 ) \"*\"                    \"*\"                  \"*\"                  \n",
       "          self_reference_min_shares self_reference_max_shares\n",
       "1  ( 1 )  \" \"                       \" \"                      \n",
       "2  ( 1 )  \" \"                       \" \"                      \n",
       "3  ( 1 )  \" \"                       \" \"                      \n",
       "4  ( 1 )  \" \"                       \" \"                      \n",
       "5  ( 1 )  \" \"                       \" \"                      \n",
       "6  ( 1 )  \" \"                       \" \"                      \n",
       "7  ( 1 )  \" \"                       \" \"                      \n",
       "8  ( 1 )  \" \"                       \" \"                      \n",
       "9  ( 1 )  \" \"                       \" \"                      \n",
       "10  ( 1 ) \" \"                       \" \"                      \n",
       "11  ( 1 ) \" \"                       \" \"                      \n",
       "12  ( 1 ) \" \"                       \" \"                      \n",
       "13  ( 1 ) \" \"                       \" \"                      \n",
       "14  ( 1 ) \" \"                       \" \"                      \n",
       "15  ( 1 ) \" \"                       \"*\"                      \n",
       "16  ( 1 ) \"*\"                       \"*\"                      \n",
       "17  ( 1 ) \"*\"                       \"*\"                      \n",
       "18  ( 1 ) \"*\"                       \"*\"                      \n",
       "19  ( 1 ) \"*\"                       \"*\"                      \n",
       "20  ( 1 ) \"*\"                       \"*\"                      \n",
       "21  ( 1 ) \"*\"                       \"*\"                      \n",
       "22  ( 1 ) \"*\"                       \"*\"                      \n",
       "23  ( 1 ) \"*\"                       \"*\"                      \n",
       "24  ( 1 ) \"*\"                       \"*\"                      \n",
       "25  ( 1 ) \"*\"                       \"*\"                      \n",
       "26  ( 1 ) \"*\"                       \"*\"                      \n",
       "          self_reference_avg_sharess weekday_is_monday weekday_is_tuesday\n",
       "1  ( 1 )  \" \"                        \" \"               \" \"               \n",
       "2  ( 1 )  \" \"                        \" \"               \" \"               \n",
       "3  ( 1 )  \"*\"                        \" \"               \" \"               \n",
       "4  ( 1 )  \"*\"                        \" \"               \" \"               \n",
       "5  ( 1 )  \"*\"                        \" \"               \" \"               \n",
       "6  ( 1 )  \"*\"                        \" \"               \" \"               \n",
       "7  ( 1 )  \"*\"                        \" \"               \" \"               \n",
       "8  ( 1 )  \"*\"                        \" \"               \" \"               \n",
       "9  ( 1 )  \"*\"                        \" \"               \" \"               \n",
       "10  ( 1 ) \"*\"                        \" \"               \" \"               \n",
       "11  ( 1 ) \"*\"                        \" \"               \" \"               \n",
       "12  ( 1 ) \"*\"                        \" \"               \" \"               \n",
       "13  ( 1 ) \"*\"                        \" \"               \" \"               \n",
       "14  ( 1 ) \"*\"                        \" \"               \" \"               \n",
       "15  ( 1 ) \"*\"                        \" \"               \" \"               \n",
       "16  ( 1 ) \"*\"                        \" \"               \" \"               \n",
       "17  ( 1 ) \"*\"                        \" \"               \" \"               \n",
       "18  ( 1 ) \"*\"                        \" \"               \" \"               \n",
       "19  ( 1 ) \"*\"                        \" \"               \"*\"               \n",
       "20  ( 1 ) \"*\"                        \"*\"               \"*\"               \n",
       "21  ( 1 ) \"*\"                        \"*\"               \"*\"               \n",
       "22  ( 1 ) \"*\"                        \"*\"               \"*\"               \n",
       "23  ( 1 ) \"*\"                        \"*\"               \"*\"               \n",
       "24  ( 1 ) \"*\"                        \"*\"               \"*\"               \n",
       "25  ( 1 ) \"*\"                        \"*\"               \"*\"               \n",
       "26  ( 1 ) \"*\"                        \"*\"               \"*\"               \n",
       "          weekday_is_wednesday weekday_is_thursday weekday_is_friday\n",
       "1  ( 1 )  \" \"                  \" \"                 \" \"              \n",
       "2  ( 1 )  \" \"                  \" \"                 \" \"              \n",
       "3  ( 1 )  \" \"                  \" \"                 \" \"              \n",
       "4  ( 1 )  \" \"                  \" \"                 \" \"              \n",
       "5  ( 1 )  \" \"                  \" \"                 \" \"              \n",
       "6  ( 1 )  \" \"                  \" \"                 \" \"              \n",
       "7  ( 1 )  \" \"                  \" \"                 \" \"              \n",
       "8  ( 1 )  \" \"                  \" \"                 \" \"              \n",
       "9  ( 1 )  \" \"                  \" \"                 \" \"              \n",
       "10  ( 1 ) \" \"                  \" \"                 \" \"              \n",
       "11  ( 1 ) \" \"                  \" \"                 \" \"              \n",
       "12  ( 1 ) \" \"                  \" \"                 \" \"              \n",
       "13  ( 1 ) \" \"                  \" \"                 \" \"              \n",
       "14  ( 1 ) \" \"                  \" \"                 \" \"              \n",
       "15  ( 1 ) \" \"                  \" \"                 \" \"              \n",
       "16  ( 1 ) \" \"                  \" \"                 \" \"              \n",
       "17  ( 1 ) \" \"                  \"*\"                 \" \"              \n",
       "18  ( 1 ) \" \"                  \"*\"                 \"*\"              \n",
       "19  ( 1 ) \" \"                  \"*\"                 \"*\"              \n",
       "20  ( 1 ) \" \"                  \"*\"                 \"*\"              \n",
       "21  ( 1 ) \" \"                  \"*\"                 \"*\"              \n",
       "22  ( 1 ) \" \"                  \"*\"                 \"*\"              \n",
       "23  ( 1 ) \" \"                  \"*\"                 \"*\"              \n",
       "24  ( 1 ) \" \"                  \"*\"                 \"*\"              \n",
       "25  ( 1 ) \" \"                  \"*\"                 \"*\"              \n",
       "26  ( 1 ) \"*\"                  \"*\"                 \"*\"              \n",
       "          weekday_is_saturday\n",
       "1  ( 1 )  \" \"                \n",
       "2  ( 1 )  \" \"                \n",
       "3  ( 1 )  \" \"                \n",
       "4  ( 1 )  \" \"                \n",
       "5  ( 1 )  \" \"                \n",
       "6  ( 1 )  \" \"                \n",
       "7  ( 1 )  \" \"                \n",
       "8  ( 1 )  \" \"                \n",
       "9  ( 1 )  \" \"                \n",
       "10  ( 1 ) \" \"                \n",
       "11  ( 1 ) \" \"                \n",
       "12  ( 1 ) \" \"                \n",
       "13  ( 1 ) \"*\"                \n",
       "14  ( 1 ) \"*\"                \n",
       "15  ( 1 ) \"*\"                \n",
       "16  ( 1 ) \"*\"                \n",
       "17  ( 1 ) \"*\"                \n",
       "18  ( 1 ) \"*\"                \n",
       "19  ( 1 ) \"*\"                \n",
       "20  ( 1 ) \"*\"                \n",
       "21  ( 1 ) \"*\"                \n",
       "22  ( 1 ) \"*\"                \n",
       "23  ( 1 ) \"*\"                \n",
       "24  ( 1 ) \"*\"                \n",
       "25  ( 1 ) \"*\"                \n",
       "26  ( 1 ) \"*\"                "
      ]
     },
     "metadata": {},
     "output_type": "display_data"
    }
   ],
   "source": [
    "articles_forward_sel <- regsubsets(\n",
    "    x = shares ~ ., nvmax = 27,\n",
    "    data = training_articles[, -28],\n",
    "    method = 'forward' \n",
    ")\n",
    "\n",
    "articles_forward_summary <- summary(articles_forward_sel)\n",
    "articles_forward_summary"
   ]
  },
  {
   "cell_type": "code",
   "execution_count": 28,
   "metadata": {
    "vscode": {
     "languageId": "r"
    }
   },
   "outputs": [
    {
     "data": {
      "text/html": [
       "<table class=\"dataframe\">\n",
       "<caption>A tibble: 26 × 6</caption>\n",
       "<thead>\n",
       "\t<tr><th scope=col>n_input_variables</th><th scope=col>RSQ</th><th scope=col>RSS</th><th scope=col>ADJ.R2</th><th scope=col>Cp</th><th scope=col>BIC</th></tr>\n",
       "\t<tr><th scope=col>&lt;int&gt;</th><th scope=col>&lt;dbl&gt;</th><th scope=col>&lt;dbl&gt;</th><th scope=col>&lt;dbl&gt;</th><th scope=col>&lt;dbl&gt;</th><th scope=col>&lt;dbl&gt;</th></tr>\n",
       "</thead>\n",
       "<tbody>\n",
       "\t<tr><td> 1</td><td>0.002570620</td><td>3.593809e+12</td><td>0.002534674</td><td>360.38289</td><td> -50.96456</td></tr>\n",
       "\t<tr><td> 2</td><td>0.004700896</td><td>3.586133e+12</td><td>0.004629155</td><td>302.35421</td><td>-100.06448</td></tr>\n",
       "\t<tr><td> 3</td><td>0.006233004</td><td>3.580613e+12</td><td>0.006125555</td><td>261.18122</td><td>-132.58321</td></tr>\n",
       "\t<tr><td> 4</td><td>0.007550722</td><td>3.575865e+12</td><td>0.007407641</td><td>226.04948</td><td>-159.17265</td></tr>\n",
       "\t<tr><td> 5</td><td>0.008335362</td><td>3.573038e+12</td><td>0.008156645</td><td>205.93926</td><td>-170.88975</td></tr>\n",
       "\t<tr><td> 6</td><td>0.009201145</td><td>3.569919e+12</td><td>0.008986865</td><td>183.54250</td><td>-184.89678</td></tr>\n",
       "\t<tr><td> 7</td><td>0.010528182</td><td>3.565137e+12</td><td>0.010278513</td><td>148.14818</td><td>-211.85794</td></tr>\n",
       "\t<tr><td> 8</td><td>0.012430877</td><td>3.558282e+12</td><td>0.012146080</td><td> 96.53249</td><td>-255.03990</td></tr>\n",
       "\t<tr><td> 9</td><td>0.013564533</td><td>3.554197e+12</td><td>0.013244492</td><td> 66.58740</td><td>-276.68214</td></tr>\n",
       "\t<tr><td>10</td><td>0.015030475</td><td>3.548915e+12</td><td>0.014675390</td><td> 27.27887</td><td>-307.72112</td></tr>\n",
       "\t<tr><td>11</td><td>0.015315815</td><td>3.547887e+12</td><td>0.014925321</td><td> 21.23833</td><td>-305.53030</td></tr>\n",
       "\t<tr><td>12</td><td>0.015570138</td><td>3.546971e+12</td><td>0.015144239</td><td> 16.07180</td><td>-302.46748</td></tr>\n",
       "\t<tr><td>13</td><td>0.015752402</td><td>3.546314e+12</td><td>0.015291080</td><td> 12.93583</td><td>-297.37478</td></tr>\n",
       "\t<tr><td>14</td><td>0.015890490</td><td>3.545816e+12</td><td>0.015393734</td><td> 11.04466</td><td>-291.03734</td></tr>\n",
       "\t<tr><td>15</td><td>0.015973498</td><td>3.545517e+12</td><td>0.015441285</td><td> 10.70560</td><td>-283.14712</td></tr>\n",
       "\t<tr><td>16</td><td>0.016015383</td><td>3.545366e+12</td><td>0.015447693</td><td> 11.52533</td><td>-274.09732</td></tr>\n",
       "\t<tr><td>17</td><td>0.016050720</td><td>3.545239e+12</td><td>0.015447549</td><td> 12.52957</td><td>-264.86292</td></tr>\n",
       "\t<tr><td>18</td><td>0.016081700</td><td>3.545127e+12</td><td>0.015443045</td><td> 13.65660</td><td>-255.50565</td></tr>\n",
       "\t<tr><td>19</td><td>0.016091219</td><td>3.545093e+12</td><td>0.015417066</td><td> 15.38836</td><td>-245.54313</td></tr>\n",
       "\t<tr><td>20</td><td>0.016098610</td><td>3.545067e+12</td><td>0.015388954</td><td> 17.18010</td><td>-235.52059</td></tr>\n",
       "\t<tr><td>21</td><td>0.016105225</td><td>3.545043e+12</td><td>0.015360065</td><td> 18.99370</td><td>-225.47617</td></tr>\n",
       "\t<tr><td>22</td><td>0.016109042</td><td>3.545029e+12</td><td>0.015328374</td><td> 20.88612</td><td>-215.35285</td></tr>\n",
       "\t<tr><td>23</td><td>0.016111914</td><td>3.545019e+12</td><td>0.015295733</td><td> 22.80520</td><td>-205.20286</td></tr>\n",
       "\t<tr><td>24</td><td>0.016143945</td><td>3.544903e+12</td><td>0.015292276</td><td> 23.90259</td><td>-195.87530</td></tr>\n",
       "\t<tr><td>25</td><td>0.016175930</td><td>3.544788e+12</td><td>0.015288770</td><td> 25.00132</td><td>-186.54645</td></tr>\n",
       "\t<tr><td>26</td><td>0.016175976</td><td>3.544788e+12</td><td>0.015253298</td><td> 27.00000</td><td>-176.31678</td></tr>\n",
       "</tbody>\n",
       "</table>\n"
      ],
      "text/latex": [
       "A tibble: 26 × 6\n",
       "\\begin{tabular}{llllll}\n",
       " n\\_input\\_variables & RSQ & RSS & ADJ.R2 & Cp & BIC\\\\\n",
       " <int> & <dbl> & <dbl> & <dbl> & <dbl> & <dbl>\\\\\n",
       "\\hline\n",
       "\t  1 & 0.002570620 & 3.593809e+12 & 0.002534674 & 360.38289 &  -50.96456\\\\\n",
       "\t  2 & 0.004700896 & 3.586133e+12 & 0.004629155 & 302.35421 & -100.06448\\\\\n",
       "\t  3 & 0.006233004 & 3.580613e+12 & 0.006125555 & 261.18122 & -132.58321\\\\\n",
       "\t  4 & 0.007550722 & 3.575865e+12 & 0.007407641 & 226.04948 & -159.17265\\\\\n",
       "\t  5 & 0.008335362 & 3.573038e+12 & 0.008156645 & 205.93926 & -170.88975\\\\\n",
       "\t  6 & 0.009201145 & 3.569919e+12 & 0.008986865 & 183.54250 & -184.89678\\\\\n",
       "\t  7 & 0.010528182 & 3.565137e+12 & 0.010278513 & 148.14818 & -211.85794\\\\\n",
       "\t  8 & 0.012430877 & 3.558282e+12 & 0.012146080 &  96.53249 & -255.03990\\\\\n",
       "\t  9 & 0.013564533 & 3.554197e+12 & 0.013244492 &  66.58740 & -276.68214\\\\\n",
       "\t 10 & 0.015030475 & 3.548915e+12 & 0.014675390 &  27.27887 & -307.72112\\\\\n",
       "\t 11 & 0.015315815 & 3.547887e+12 & 0.014925321 &  21.23833 & -305.53030\\\\\n",
       "\t 12 & 0.015570138 & 3.546971e+12 & 0.015144239 &  16.07180 & -302.46748\\\\\n",
       "\t 13 & 0.015752402 & 3.546314e+12 & 0.015291080 &  12.93583 & -297.37478\\\\\n",
       "\t 14 & 0.015890490 & 3.545816e+12 & 0.015393734 &  11.04466 & -291.03734\\\\\n",
       "\t 15 & 0.015973498 & 3.545517e+12 & 0.015441285 &  10.70560 & -283.14712\\\\\n",
       "\t 16 & 0.016015383 & 3.545366e+12 & 0.015447693 &  11.52533 & -274.09732\\\\\n",
       "\t 17 & 0.016050720 & 3.545239e+12 & 0.015447549 &  12.52957 & -264.86292\\\\\n",
       "\t 18 & 0.016081700 & 3.545127e+12 & 0.015443045 &  13.65660 & -255.50565\\\\\n",
       "\t 19 & 0.016091219 & 3.545093e+12 & 0.015417066 &  15.38836 & -245.54313\\\\\n",
       "\t 20 & 0.016098610 & 3.545067e+12 & 0.015388954 &  17.18010 & -235.52059\\\\\n",
       "\t 21 & 0.016105225 & 3.545043e+12 & 0.015360065 &  18.99370 & -225.47617\\\\\n",
       "\t 22 & 0.016109042 & 3.545029e+12 & 0.015328374 &  20.88612 & -215.35285\\\\\n",
       "\t 23 & 0.016111914 & 3.545019e+12 & 0.015295733 &  22.80520 & -205.20286\\\\\n",
       "\t 24 & 0.016143945 & 3.544903e+12 & 0.015292276 &  23.90259 & -195.87530\\\\\n",
       "\t 25 & 0.016175930 & 3.544788e+12 & 0.015288770 &  25.00132 & -186.54645\\\\\n",
       "\t 26 & 0.016175976 & 3.544788e+12 & 0.015253298 &  27.00000 & -176.31678\\\\\n",
       "\\end{tabular}\n"
      ],
      "text/markdown": [
       "\n",
       "A tibble: 26 × 6\n",
       "\n",
       "| n_input_variables &lt;int&gt; | RSQ &lt;dbl&gt; | RSS &lt;dbl&gt; | ADJ.R2 &lt;dbl&gt; | Cp &lt;dbl&gt; | BIC &lt;dbl&gt; |\n",
       "|---|---|---|---|---|---|\n",
       "|  1 | 0.002570620 | 3.593809e+12 | 0.002534674 | 360.38289 |  -50.96456 |\n",
       "|  2 | 0.004700896 | 3.586133e+12 | 0.004629155 | 302.35421 | -100.06448 |\n",
       "|  3 | 0.006233004 | 3.580613e+12 | 0.006125555 | 261.18122 | -132.58321 |\n",
       "|  4 | 0.007550722 | 3.575865e+12 | 0.007407641 | 226.04948 | -159.17265 |\n",
       "|  5 | 0.008335362 | 3.573038e+12 | 0.008156645 | 205.93926 | -170.88975 |\n",
       "|  6 | 0.009201145 | 3.569919e+12 | 0.008986865 | 183.54250 | -184.89678 |\n",
       "|  7 | 0.010528182 | 3.565137e+12 | 0.010278513 | 148.14818 | -211.85794 |\n",
       "|  8 | 0.012430877 | 3.558282e+12 | 0.012146080 |  96.53249 | -255.03990 |\n",
       "|  9 | 0.013564533 | 3.554197e+12 | 0.013244492 |  66.58740 | -276.68214 |\n",
       "| 10 | 0.015030475 | 3.548915e+12 | 0.014675390 |  27.27887 | -307.72112 |\n",
       "| 11 | 0.015315815 | 3.547887e+12 | 0.014925321 |  21.23833 | -305.53030 |\n",
       "| 12 | 0.015570138 | 3.546971e+12 | 0.015144239 |  16.07180 | -302.46748 |\n",
       "| 13 | 0.015752402 | 3.546314e+12 | 0.015291080 |  12.93583 | -297.37478 |\n",
       "| 14 | 0.015890490 | 3.545816e+12 | 0.015393734 |  11.04466 | -291.03734 |\n",
       "| 15 | 0.015973498 | 3.545517e+12 | 0.015441285 |  10.70560 | -283.14712 |\n",
       "| 16 | 0.016015383 | 3.545366e+12 | 0.015447693 |  11.52533 | -274.09732 |\n",
       "| 17 | 0.016050720 | 3.545239e+12 | 0.015447549 |  12.52957 | -264.86292 |\n",
       "| 18 | 0.016081700 | 3.545127e+12 | 0.015443045 |  13.65660 | -255.50565 |\n",
       "| 19 | 0.016091219 | 3.545093e+12 | 0.015417066 |  15.38836 | -245.54313 |\n",
       "| 20 | 0.016098610 | 3.545067e+12 | 0.015388954 |  17.18010 | -235.52059 |\n",
       "| 21 | 0.016105225 | 3.545043e+12 | 0.015360065 |  18.99370 | -225.47617 |\n",
       "| 22 | 0.016109042 | 3.545029e+12 | 0.015328374 |  20.88612 | -215.35285 |\n",
       "| 23 | 0.016111914 | 3.545019e+12 | 0.015295733 |  22.80520 | -205.20286 |\n",
       "| 24 | 0.016143945 | 3.544903e+12 | 0.015292276 |  23.90259 | -195.87530 |\n",
       "| 25 | 0.016175930 | 3.544788e+12 | 0.015288770 |  25.00132 | -186.54645 |\n",
       "| 26 | 0.016175976 | 3.544788e+12 | 0.015253298 |  27.00000 | -176.31678 |\n",
       "\n"
      ],
      "text/plain": [
       "   n_input_variables RSQ         RSS          ADJ.R2      Cp        BIC       \n",
       "1   1                0.002570620 3.593809e+12 0.002534674 360.38289  -50.96456\n",
       "2   2                0.004700896 3.586133e+12 0.004629155 302.35421 -100.06448\n",
       "3   3                0.006233004 3.580613e+12 0.006125555 261.18122 -132.58321\n",
       "4   4                0.007550722 3.575865e+12 0.007407641 226.04948 -159.17265\n",
       "5   5                0.008335362 3.573038e+12 0.008156645 205.93926 -170.88975\n",
       "6   6                0.009201145 3.569919e+12 0.008986865 183.54250 -184.89678\n",
       "7   7                0.010528182 3.565137e+12 0.010278513 148.14818 -211.85794\n",
       "8   8                0.012430877 3.558282e+12 0.012146080  96.53249 -255.03990\n",
       "9   9                0.013564533 3.554197e+12 0.013244492  66.58740 -276.68214\n",
       "10 10                0.015030475 3.548915e+12 0.014675390  27.27887 -307.72112\n",
       "11 11                0.015315815 3.547887e+12 0.014925321  21.23833 -305.53030\n",
       "12 12                0.015570138 3.546971e+12 0.015144239  16.07180 -302.46748\n",
       "13 13                0.015752402 3.546314e+12 0.015291080  12.93583 -297.37478\n",
       "14 14                0.015890490 3.545816e+12 0.015393734  11.04466 -291.03734\n",
       "15 15                0.015973498 3.545517e+12 0.015441285  10.70560 -283.14712\n",
       "16 16                0.016015383 3.545366e+12 0.015447693  11.52533 -274.09732\n",
       "17 17                0.016050720 3.545239e+12 0.015447549  12.52957 -264.86292\n",
       "18 18                0.016081700 3.545127e+12 0.015443045  13.65660 -255.50565\n",
       "19 19                0.016091219 3.545093e+12 0.015417066  15.38836 -245.54313\n",
       "20 20                0.016098610 3.545067e+12 0.015388954  17.18010 -235.52059\n",
       "21 21                0.016105225 3.545043e+12 0.015360065  18.99370 -225.47617\n",
       "22 22                0.016109042 3.545029e+12 0.015328374  20.88612 -215.35285\n",
       "23 23                0.016111914 3.545019e+12 0.015295733  22.80520 -205.20286\n",
       "24 24                0.016143945 3.544903e+12 0.015292276  23.90259 -195.87530\n",
       "25 25                0.016175930 3.544788e+12 0.015288770  25.00132 -186.54645\n",
       "26 26                0.016175976 3.544788e+12 0.015253298  27.00000 -176.31678"
      ]
     },
     "metadata": {},
     "output_type": "display_data"
    }
   ],
   "source": [
    "articles_forward_summary_df <- tibble(\n",
    "    n_input_variables = 1:26,\n",
    "    RSQ = articles_forward_summary$rsq,\n",
    "    RSS = articles_forward_summary$rss,\n",
    "    ADJ.R2 = articles_forward_summary$adjr2,\n",
    "    Cp = articles_forward_summary$cp,\n",
    "    BIC = articles_forward_summary$bic,\n",
    ")\n",
    "articles_forward_summary_df"
   ]
  },
  {
   "cell_type": "markdown",
   "metadata": {},
   "source": [
    "Since we are doing predictive modelling, we will use Mallow's $C_p$ to assess the performance of the different predictive models, where the smaller the $C_p$ value is, the more precise the model relatively is. In this case, using 15 input variables has the smallest $C_p$ value."
   ]
  },
  {
   "cell_type": "markdown",
   "metadata": {},
   "source": [
    "The 15 input variables are:\n",
    "```\n",
    "n_tokens_title\n",
    "n_tokens_content\n",
    "num_hrefs\n",
    "num_self_hrefs\n",
    "average_token_length\n",
    "data_channel_is_lifestyle\n",
    "data_channel_is_entertainment\n",
    "data_channel_is_bus\n",
    "data_channel_is_socmed\n",
    "data_channel_is_tech\n",
    "data_channel_is_world\n",
    "self_reference_min_shares\n",
    "self_reference_max_shares\n",
    "self_reference_avg_shares\n",
    "weekday_is_wednesday\n",
    "\n",
    "```\n",
    "\n",
    "Now a reduced model is made using these 15 input variables."
   ]
  },
  {
   "cell_type": "code",
   "execution_count": 29,
   "metadata": {
    "vscode": {
     "languageId": "r"
    }
   },
   "outputs": [],
   "source": [
    "articles_red_OLS <- lm(shares ~ n_tokens_title + n_tokens_content + num_hrefs + num_self_hrefs +\n",
    "        average_token_length + data_channel_is_lifestyle + data_channel_is_entertainment + data_channel_is_bus + \n",
    "        data_channel_is_socmed +  data_channel_is_tech + data_channel_is_world + self_reference_min_shares + \n",
    "        self_reference_max_shares + self_reference_avg_sharess + weekday_is_wednesday,\n",
    "        data = training_articles\n",
    "    )\n",
    "\n",
    "articles_test_pred_red_OLS <- predict(articles_red_OLS, newdata = testing_articles[, -28])"
   ]
  },
  {
   "cell_type": "code",
   "execution_count": 30,
   "metadata": {
    "vscode": {
     "languageId": "r"
    }
   },
   "outputs": [
    {
     "data": {
      "text/html": [
       "<table class=\"dataframe\">\n",
       "<caption>A tibble: 2 × 2</caption>\n",
       "<thead>\n",
       "\t<tr><th scope=col>Model</th><th scope=col>RMSE</th></tr>\n",
       "\t<tr><th scope=col>&lt;chr&gt;</th><th scope=col>&lt;dbl&gt;</th></tr>\n",
       "</thead>\n",
       "<tbody>\n",
       "\t<tr><td>OLS Full Regression   </td><td>12079.27</td></tr>\n",
       "\t<tr><td>OLS Reduced Regression</td><td>12081.84</td></tr>\n",
       "</tbody>\n",
       "</table>\n"
      ],
      "text/latex": [
       "A tibble: 2 × 2\n",
       "\\begin{tabular}{ll}\n",
       " Model & RMSE\\\\\n",
       " <chr> & <dbl>\\\\\n",
       "\\hline\n",
       "\t OLS Full Regression    & 12079.27\\\\\n",
       "\t OLS Reduced Regression & 12081.84\\\\\n",
       "\\end{tabular}\n"
      ],
      "text/markdown": [
       "\n",
       "A tibble: 2 × 2\n",
       "\n",
       "| Model &lt;chr&gt; | RMSE &lt;dbl&gt; |\n",
       "|---|---|\n",
       "| OLS Full Regression    | 12079.27 |\n",
       "| OLS Reduced Regression | 12081.84 |\n",
       "\n"
      ],
      "text/plain": [
       "  Model                  RMSE    \n",
       "1 OLS Full Regression    12079.27\n",
       "2 OLS Reduced Regression 12081.84"
      ]
     },
     "metadata": {},
     "output_type": "display_data"
    }
   ],
   "source": [
    "articles_RMSE_models <- rbind(\n",
    "    articles_RMSE_models,\n",
    "    tibble(\n",
    "        Model = \"OLS Reduced Regression\",\n",
    "        RMSE = RMSE(\n",
    "            articles_test_pred_red_OLS,\n",
    "            testing_articles$shares\n",
    "        )\n",
    "    )\n",
    ")\n",
    "articles_RMSE_models"
   ]
  },
  {
   "cell_type": "markdown",
   "metadata": {},
   "source": [
    "Will also use a K-nearest neighbours model to predict shares using `tidymodels` and 5-fold cross validation to choose the apporiate amount of neighbours using minimum RMSPE."
   ]
  },
  {
   "cell_type": "code",
   "execution_count": 32,
   "metadata": {
    "vscode": {
     "languageId": "r"
    }
   },
   "outputs": [],
   "source": [
    "articles_recipe <- recipe(shares ~ n_tokens_title + n_tokens_content + num_hrefs + num_self_hrefs +\n",
    "        average_token_length + data_channel_is_lifestyle + data_channel_is_entertainment + data_channel_is_bus + \n",
    "        data_channel_is_socmed +  data_channel_is_tech + data_channel_is_world + self_reference_min_shares + \n",
    "        self_reference_max_shares + self_reference_avg_sharess + weekday_is_wednesday, data = training_articles) %>%\n",
    "        step_scale(all_predictors()) %>%\n",
    "        step_center(all_predictors())\n",
    "\n",
    "articles_spec <- nearest_neighbor(weight_func = 'rectangular',\n",
    "                                  neighbors = tune()) %>%\n",
    "    set_engine('kknn') %>%\n",
    "    set_mode('regression')\n",
    "\n",
    "articles_vfold <- vfold_cv(training_articles, v = 5, strata = shares)\n",
    "\n"
   ]
  },
  {
   "cell_type": "code",
   "execution_count": 33,
   "metadata": {
    "vscode": {
     "languageId": "r"
    }
   },
   "outputs": [
    {
     "data": {
      "text/html": [
       "<table class=\"dataframe\">\n",
       "<caption>A tibble: 1 × 7</caption>\n",
       "<thead>\n",
       "\t<tr><th scope=col>neighbors</th><th scope=col>.metric</th><th scope=col>.estimator</th><th scope=col>mean</th><th scope=col>n</th><th scope=col>std_err</th><th scope=col>.config</th></tr>\n",
       "\t<tr><th scope=col>&lt;int&gt;</th><th scope=col>&lt;chr&gt;</th><th scope=col>&lt;chr&gt;</th><th scope=col>&lt;dbl&gt;</th><th scope=col>&lt;int&gt;</th><th scope=col>&lt;dbl&gt;</th><th scope=col>&lt;chr&gt;</th></tr>\n",
       "</thead>\n",
       "<tbody>\n",
       "\t<tr><td>30</td><td>rmse</td><td>standard</td><td>11306.96</td><td>5</td><td>799.0212</td><td>Preprocessor1_Model30</td></tr>\n",
       "</tbody>\n",
       "</table>\n"
      ],
      "text/latex": [
       "A tibble: 1 × 7\n",
       "\\begin{tabular}{lllllll}\n",
       " neighbors & .metric & .estimator & mean & n & std\\_err & .config\\\\\n",
       " <int> & <chr> & <chr> & <dbl> & <int> & <dbl> & <chr>\\\\\n",
       "\\hline\n",
       "\t 30 & rmse & standard & 11306.96 & 5 & 799.0212 & Preprocessor1\\_Model30\\\\\n",
       "\\end{tabular}\n"
      ],
      "text/markdown": [
       "\n",
       "A tibble: 1 × 7\n",
       "\n",
       "| neighbors &lt;int&gt; | .metric &lt;chr&gt; | .estimator &lt;chr&gt; | mean &lt;dbl&gt; | n &lt;int&gt; | std_err &lt;dbl&gt; | .config &lt;chr&gt; |\n",
       "|---|---|---|---|---|---|---|\n",
       "| 30 | rmse | standard | 11306.96 | 5 | 799.0212 | Preprocessor1_Model30 |\n",
       "\n"
      ],
      "text/plain": [
       "  neighbors .metric .estimator mean     n std_err  .config              \n",
       "1 30        rmse    standard   11306.96 5 799.0212 Preprocessor1_Model30"
      ]
     },
     "metadata": {},
     "output_type": "display_data"
    }
   ],
   "source": [
    "gridvals <- tibble(neighbors = seq(1, 30))\n",
    "\n",
    "articles_multi <- workflow() |>\n",
    "  add_recipe(articles_recipe) |>\n",
    "  add_model(articles_spec) |>\n",
    "  tune_grid(articles_vfold, grid = gridvals) |>\n",
    "  collect_metrics() |>\n",
    "  filter(.metric == \"rmse\") |>\n",
    "  filter(mean == min(mean))\n",
    "\n",
    "articles_k <- articles_multi |>\n",
    "              pull(neighbors)\n",
    "articles_multi"
   ]
  },
  {
   "cell_type": "markdown",
   "metadata": {},
   "source": [
    "We can compare the mean RMSE from K-Nearest Neighbours to the OLS models from earlier, and see that the K-Nearest Neighbours had a smaller RMSE, meaning it performs better in this scenario."
   ]
  }
 ],
 "metadata": {
  "kernelspec": {
   "display_name": "R",
   "language": "R",
   "name": "ir"
  },
  "language_info": {
   "codemirror_mode": "r",
   "file_extension": ".r",
   "mimetype": "text/x-r-source",
   "name": "R",
   "pygments_lexer": "r",
   "version": "4.3.2"
  }
 },
 "nbformat": 4,
 "nbformat_minor": 2
}
