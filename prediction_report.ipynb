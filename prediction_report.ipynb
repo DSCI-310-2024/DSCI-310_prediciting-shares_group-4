{
  "cells": [
    {
      "cell_type": "raw",
      "id": "92f3cf39",
      "metadata": {},
      "source": [
        "---\n",
        "title: Exploratory Data Analysis\n",
        "---"
      ]
    },
    {
      "cell_type": "code",
      "execution_count": null,
      "id": "29da1d12",
      "metadata": {
        "vscode": {
          "languageId": "r"
        }
      },
      "outputs": [],
      "source": [
        "# Assuming your kernel autoinstalled renv, uncomment the following code\n",
        "# to install the rest of the packages\n",
        "# renv::restore()"
      ]
    },
    {
      "cell_type": "markdown",
      "id": "a7662a41",
      "metadata": {},
      "source": [
        "## Title\n",
        "Predicting number of shares an article will get based on the number of links, images and videos in the article.\n",
        "\n",
        "## Summary\n",
        " Our analysis aims to predict the number of shares an article published by Mashable over a period of two years will get based on the number of links, images and videos in the article using knn classification. \n",
        "\n",
        "## Introduction\n",
        "An article is classified as popular if it has equal to or more than 1400 shares and unpopular if it has less than 1400 shares. The model aims to predict whether an article will be popular based on the number of links, images, and videos in it. \n",
        "The dataset is publicly available and has 61 attributes out of which we chose 4 including the three predictors and the variable of interest, shares, which refers to the number of shares of the article in social networks.\n",
        "\n",
        "## Methods and Results\n",
        "Loading relevant packages."
      ]
    },
    {
      "cell_type": "code",
      "execution_count": null,
      "id": "e7c3f841",
      "metadata": {
        "vscode": {
          "languageId": "r"
        }
      },
      "outputs": [],
      "source": [
        "library(kknn)\n",
        "library(renv)\n",
        "library(tidymodels)\n",
        "library(tidyverse)\n",
        "library(repr)"
      ]
    },
    {
      "cell_type": "markdown",
      "id": "55cb2c0e",
      "metadata": {},
      "source": [
        "Reading data from dataset."
      ]
    },
    {
      "cell_type": "code",
      "execution_count": null,
      "id": "2e9a7021",
      "metadata": {
        "vscode": {
          "languageId": "r"
        }
      },
      "outputs": [],
      "source": [
        "url <- \"https://archive.ics.uci.edu/static/public/332/online+news+popularity.zip\"\n",
        "download.file(url,\"articles.zip\")\n",
        "temp_zip <- tempfile()\n",
        "download.file(url, temp_zip)\n",
        "# Unzip the file in the data directory\n",
        "unzip(temp_zip, exdir = \"data/\")\n",
        "# Cleanup: Remove the temporary zip file\n",
        "unlink(temp_zip)\n",
        "directories <- list.dirs(\"data/\", recursive = FALSE)\n",
        "\n",
        "# List the files within the first directory, filtering for CSV files\n",
        "csv_files <- list.files(directories[1], pattern = \"\\\\.csv$\", full.names = TRUE)\n",
        "\n",
        "articles <- read.csv(csv_files, header = TRUE)"
      ]
    },
    {
      "cell_type": "markdown",
      "id": "e1777097",
      "metadata": {},
      "source": [
        "Creating a boxplot of the variable of interest"
      ]
    },
    {
      "cell_type": "code",
      "execution_count": null,
      "id": "79816bcc",
      "metadata": {
        "vscode": {
          "languageId": "r"
        }
      },
      "outputs": [],
      "source": [
        "ggplot(data = articles) +\n",
        "    geom_boxplot(aes(y = shares)) +\n",
        "    labs(title = \"Boxplot of Shares\") +\n",
        "    ylab(label = 'Shares') +\n",
        "    theme(axis.title = element_text(size = 20), axis.text = element_text(size = 15), title = element_text(size = 25))"
      ]
    },
    {
      "cell_type": "markdown",
      "id": "d87f221b",
      "metadata": {},
      "source": [
        "Figure 1. Boxplot of the variable of interest, shares\n",
        "\n",
        "\n",
        "Obtaining summary statistics about the variable of interest."
      ]
    },
    {
      "cell_type": "code",
      "execution_count": null,
      "id": "ca25a4e2",
      "metadata": {
        "vscode": {
          "languageId": "r"
        }
      },
      "outputs": [],
      "source": [
        "summary(articles$shares)\n",
        "sd(articles$shares)"
      ]
    },
    {
      "cell_type": "markdown",
      "id": "eda7b2de",
      "metadata": {},
      "source": [
        "The variable of interest, shares, has a median of 1400 and a mean of 3395. The distribution spread is quite large, with a standard deviation of 11627. We will be using knn classification to determine whether an article will be popular. We will create a new variable called is_popular with two values 1 (popular) and 0 (unpopular)\". An article is classified as popular if it has equal to or more than 1400 shares and unpopular if it has less than 1400 shares.\n"
      ]
    },
    {
      "cell_type": "code",
      "execution_count": null,
      "id": "aee9f4ba",
      "metadata": {
        "vscode": {
          "languageId": "r"
        }
      },
      "outputs": [],
      "source": [
        "articles_clean <- articles |>\n",
        "      select(shares, num_hrefs, num_imgs, num_videos) |>\n",
        "      mutate(is_popular = ifelse(shares < 1400, 0, 1)) |>\n",
        "      mutate(is_popular = as.factor(is_popular))\n",
        "\n",
        "head(articles_clean)"
      ]
    },
    {
      "cell_type": "code",
      "execution_count": null,
      "id": "dd8768c9",
      "metadata": {
        "vscode": {
          "languageId": "r"
        }
      },
      "outputs": [],
      "source": [
        "write.csv(articles_clean, 'data/clean_Articles.csv')"
      ]
    },
    {
      "cell_type": "markdown",
      "id": "5b5cbeeb",
      "metadata": {},
      "source": [
        "Since we will be performing classification, we split our data into a training and a testing set with a 60% proportion."
      ]
    },
    {
      "cell_type": "code",
      "execution_count": null,
      "id": "42229c58",
      "metadata": {
        "vscode": {
          "languageId": "r"
        }
      },
      "outputs": [],
      "source": [
        "set.seed(2024)\n",
        "\n",
        "articles_data_split <- initial_split(articles_clean, prop = 0.6, strata = is_popular)\n",
        "articles_training <- training(articles_data_split)\n",
        "articles_testing <- testing(articles_data_split)"
      ]
    },
    {
      "cell_type": "markdown",
      "id": "0cad0831",
      "metadata": {},
      "source": [
        "We start our preliminary data analysis process by examining the number of observations we have in the training set for each class.\n"
      ]
    },
    {
      "cell_type": "code",
      "execution_count": null,
      "id": "33575703",
      "metadata": {
        "vscode": {
          "languageId": "r"
        }
      },
      "outputs": [],
      "source": [
        "num_obs_training <- articles_training |>\n",
        "      group_by(is_popular) |>\n",
        "      summarize(n = n()) |>\n",
        "      mutate(percentage = 100*n/nrow(articles_training))\n",
        "\n",
        "num_obs_training"
      ]
    },
    {
      "cell_type": "markdown",
      "id": "6220a30e",
      "metadata": {},
      "source": [
        "Table 1. Class distribution of article popularity in training set\n",
        "\n",
        "\n",
        "We can see that our data is balanced and since we have close percentages of data in both popular and unpopular classes, with popular holding the majority at 53.4%.\n",
        "\n",
        "Next, we visualize the distributions of our predictor variables: num_hrefs, num_imgs, and num_videos. We use is_popular as the fill argument.\n"
      ]
    },
    {
      "cell_type": "code",
      "execution_count": null,
      "id": "e08a1ab7",
      "metadata": {
        "vscode": {
          "languageId": "r"
        }
      },
      "outputs": [],
      "source": [
        "# Histogram 1: Distribution of the number of links in article\n",
        "mean_hrefs_plot <- ggplot(articles_training, aes(x = num_hrefs, fill = is_popular)) +\n",
        "  geom_histogram(color = \"black\") +\n",
        "  labs(title = \"Distribution of number of links\", \n",
        "       x = \"Number of links\", \n",
        "       fill = \"Popular\")+\n",
        "       scale_fill_manual(labels = c(\"Unpopular\", \"Popular\"))   \n",
        "\n",
        "\n",
        "# Histogram 1: Distribution of the number of images in article\n",
        "mean_imgs_plot <- ggplot(articles_training, aes(x = num_imgs, fill = is_popular)) +\n",
        "  geom_histogram(color = \"black\") +\n",
        "  labs(title = \"Distribution of number of images\", \n",
        "       x = \"Number of images\", \n",
        "       fill = \"Popular\")+\n",
        "       scale_fill_manual(labels = c(\"Unpopular\", \"Popular\"))       \n",
        "\n",
        "\n",
        "# Histogram 1: Distribution of the number of videos in article\n",
        "mean_videos_plot <- ggplot(articles_training, aes(x = num_videos, fill = is_popular)) +\n",
        "  geom_histogram(color = \"black\") +\n",
        "  labs(title = \"Distribution of number of videos\", \n",
        "       x = \"Number of videos\", \n",
        "       fill = \"Popular\")  +\n",
        "       scale_fill_manual(labels = c(\"Unpopular\", \"Popular\"))   "
      ]
    },
    {
      "cell_type": "code",
      "execution_count": null,
      "id": "7aebb771",
      "metadata": {
        "vscode": {
          "languageId": "r"
        }
      },
      "outputs": [],
      "source": [
        "mean_hrefs_plot"
      ]
    },
    {
      "cell_type": "markdown",
      "id": "1e3f3be6",
      "metadata": {},
      "source": [
        "Figure 2. Histogram of number of links in popular and non-Popular articles\n"
      ]
    },
    {
      "cell_type": "code",
      "execution_count": null,
      "id": "304c7416",
      "metadata": {
        "vscode": {
          "languageId": "r"
        }
      },
      "outputs": [],
      "source": [
        "mean_imgs_plot"
      ]
    },
    {
      "cell_type": "markdown",
      "id": "50c05e83",
      "metadata": {},
      "source": [
        "Figure 3. Histogram of number of images in popular and non-Popular articles\n"
      ]
    },
    {
      "cell_type": "code",
      "execution_count": null,
      "id": "58d2769d",
      "metadata": {
        "vscode": {
          "languageId": "r"
        }
      },
      "outputs": [],
      "source": [
        "mean_videos_plot"
      ]
    },
    {
      "cell_type": "markdown",
      "id": "e551261c",
      "metadata": {},
      "source": [
        "Figure 4. Histogram of number of videos in popular and non-Popular articles\n",
        "\n",
        "\n",
        "Next, we start building our knn classification model.\n",
        "\n",
        "We start with making a recipe using the training data."
      ]
    },
    {
      "cell_type": "code",
      "execution_count": null,
      "id": "cb2187eb",
      "metadata": {
        "vscode": {
          "languageId": "r"
        }
      },
      "outputs": [],
      "source": [
        "articles_recipe <- recipe(is_popular ~ num_hrefs + num_imgs + num_videos, data = articles_training) |>\n",
        "    step_scale(all_predictors()) |>\n",
        "    step_center(all_predictors())\n",
        "articles_recipe"
      ]
    },
    {
      "cell_type": "markdown",
      "id": "5cfca458",
      "metadata": {},
      "source": [
        "Next, we build a tuning model for picking the best value of k.\n"
      ]
    },
    {
      "cell_type": "code",
      "execution_count": null,
      "id": "ecd10c12",
      "metadata": {
        "vscode": {
          "languageId": "r"
        }
      },
      "outputs": [],
      "source": [
        "tune_spec <- nearest_neighbor(weight_func = \"rectangular\", neighbors = tune()) |>\n",
        "    set_engine(\"kknn\") |>\n",
        "    set_mode(\"classification\")"
      ]
    },
    {
      "cell_type": "markdown",
      "id": "8c18ba2a",
      "metadata": {},
      "source": [
        "Next, we perform cross-validation and create a workflow that calculate the metrics for each of the K values 1, 6, ..., 46, and then return a data frame that shows the accuracy of each K value.\n"
      ]
    },
    {
      "cell_type": "code",
      "execution_count": null,
      "id": "500da13e",
      "metadata": {
        "vscode": {
          "languageId": "r"
        }
      },
      "outputs": [],
      "source": [
        "set.seed(2023) # set the seed\n",
        "\n",
        "# cross-validation\n",
        "articles_vfold <- vfold_cv(articles_training, v = 5, strata = is_popular)\n",
        "\n",
        "# create a set of K values\n",
        "kvals <- tibble(neighbors = seq(from = 1, to = 100, by = 5))\n",
        "\n",
        "# data analysis workflow                       \n",
        "    knn_results <- workflow() |>\n",
        "    add_recipe(articles_recipe) |>\n",
        "    add_model(tune_spec) |>\n",
        "    tune_grid(resamples = articles_vfold, grid = kvals) |>\n",
        "    collect_metrics()\n",
        "\n",
        "accuracies <- knn_results |>\n",
        "    filter(.metric == \"accuracy\")\n",
        "\n",
        "print(accuracies)"
      ]
    },
    {
      "cell_type": "markdown",
      "id": "ac348c69",
      "metadata": {},
      "source": [
        "Table 2. Summary of KNN model accuracy across different K values with 5-fold cross-validation\n",
        "\n",
        "\n",
        "\n",
        "We now work on making an accuracy vs k plot.\n"
      ]
    },
    {
      "cell_type": "code",
      "execution_count": null,
      "id": "4ca6802e",
      "metadata": {
        "vscode": {
          "languageId": "r"
        }
      },
      "outputs": [],
      "source": [
        "best_k_plot <- accuracies |>\n",
        "    ggplot(aes(x = neighbors, y = mean)) +\n",
        "    geom_point() +\n",
        "    geom_line() +\n",
        "    labs(x = \"Number of neighbors\", y = \"Accuracy Estimate\") +\n",
        "    ggtitle(\"Accuracy Estimates vs. Number of Neighbors\")\n",
        "best_k_plot"
      ]
    },
    {
      "cell_type": "markdown",
      "id": "5a995a41",
      "metadata": {},
      "source": [
        "Figure 4.  Results from 5-fold cross validation to choose K. (Accuracy was used as the classification metric as K was varied.)\n",
        "\n",
        "\n",
        "The value of K that generates the highest accuracy is about 50, therefore we choose K = 50 and use that to build the model.\n"
      ]
    },
    {
      "cell_type": "code",
      "execution_count": null,
      "id": "d8bf8480",
      "metadata": {
        "vscode": {
          "languageId": "r"
        }
      },
      "outputs": [],
      "source": [
        "knn_spec <- nearest_neighbor(weight_func = \"rectangular\", neighbors = 50) |>\n",
        "    set_engine(\"kknn\") |>\n",
        "    set_mode(\"classification\")\n",
        "knn_spec"
      ]
    },
    {
      "cell_type": "markdown",
      "id": "74216a48",
      "metadata": {},
      "source": [
        "Next, we use a workflow to fit our model using our training set, predict the labels in our testing set, and incorporate the predictions as the new column .pred_class into the testing set.\n"
      ]
    },
    {
      "cell_type": "code",
      "execution_count": null,
      "id": "ddcc27c2",
      "metadata": {
        "vscode": {
          "languageId": "r"
        }
      },
      "outputs": [],
      "source": [
        "knn_fit <- workflow() |>\n",
        "    add_recipe(articles_recipe) |>\n",
        "    add_model(knn_spec) |>\n",
        "    fit(data = articles_training)\n",
        "\n",
        "articles_predict <- predict(knn_fit, articles_testing) |>\n",
        "    bind_cols(articles_testing)"
      ]
    },
    {
      "cell_type": "markdown",
      "id": "045044fa",
      "metadata": {},
      "source": [
        "We now look at the accuracy of the classifier using the testing set with the metrics function.\n"
      ]
    },
    {
      "cell_type": "code",
      "execution_count": null,
      "id": "fd5d18eb",
      "metadata": {
        "vscode": {
          "languageId": "r"
        }
      },
      "outputs": [],
      "source": [
        "articles_accuracy <- articles_predict |>\n",
        "    metrics(truth = is_popular, estimate = .pred_class) |>\n",
        "    filter(.metric == \"accuracy\")\n",
        "\n",
        "articles_accuracy"
      ]
    },
    {
      "cell_type": "markdown",
      "id": "05f70e2c",
      "metadata": {},
      "source": [
        "Table 3. Classifier testing set accuracy\n",
        "\n",
        "As can be seen, the accuracy of the classifier isn't very high at 54.6%. Below is the confusion matrix of the classifier model.\n"
      ]
    },
    {
      "cell_type": "code",
      "execution_count": null,
      "id": "a2a5ec29",
      "metadata": {
        "vscode": {
          "languageId": "r"
        }
      },
      "outputs": [],
      "source": [
        "confusion_matrix <- articles_predict |>\n",
        "    conf_mat(truth = is_popular, estimate = .pred_class)\n",
        "confusion_matrix"
      ]
    },
    {
      "cell_type": "markdown",
      "id": "2775031f",
      "metadata": {},
      "source": [
        "Table 4. Confusion matrix of Aarticle popularity predictions on test data\n",
        "\n",
        "Given that we care more about popular articles with higher shares, we take popular articles as the \"positive\" observations. The precision is therefore 0.6211 which is slightly higher than the accuracy of 0.546. The recall is 0.3844 which is significantly lower than the accuracy. This suggests that the model is somewhat precise in predicting popular articles but is cautious and misses some actual instances of popular articles in doing so.\n",
        "\n",
        "## Discussion:\n",
        "Summary: Our analysis aims to predict the number of shares an article published by Mashable over a period of two years will get based on the number of links, images and videos in the article using knn classification. An article is classified as popular if it has equal to or more than 1400 shares and unpopular if it has less than 1400 shares. Our findings suggest that the model is only somwhat reliable with an accuracy of 0.546 with precision higher than accuracy but recall lower than accuracy.\n",
        "\n",
        "Are the findings as expected:\n",
        "Yes, this is what we expected. Given that a basic KNN  model was used for prediction, it's reasonable to assume that this simple model might be slightly underfitting. Consequently, we anticipate achieving improved outcomes by exploring more complex models.\n",
        "\n",
        "Impact of Findings:\n",
        "This insight has the potential to refine content creation strategies by enriching our comprehension of the elements that contribute to content's engagement and popularity, such as identifying the ideal balance of links, images, and videos within an article. Adopting this strategy could significantly boost the future articles' shareability.\n",
        "\n",
        "Future Questions from Analysis:\n",
        "This analysis might lead to several Future questions. Firstly, whether there are more model models capable of achieving higher precision and recall. Secondly, the impact of the quality of links, images, and videos within articles on their popularity presents another area for in-depth investigation. \n",
        "\n",
        "## References\n",
        "Dataset Source: \n",
        "Online news popularity. UCI Machine Learning Repository. (2015, January). https://archive.ics.uci.edu/dataset/332/online+news+popularity \n"
      ]
    }
  ],
  "metadata": {
    "kernelspec": {
      "display_name": "R",
      "language": "R",
      "name": "ir"
    }
  },
  "nbformat": 4,
  "nbformat_minor": 5
}
