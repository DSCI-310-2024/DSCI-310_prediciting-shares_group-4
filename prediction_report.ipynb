{
 "cells": [
  {
   "cell_type": "code",
   "execution_count": 1,
   "metadata": {
    "vscode": {
     "languageId": "r"
    }
   },
   "outputs": [],
   "source": [
    "# Assuming your kernel autoinstalled renv, uncomment the following code\n",
    "# to install the rest of the packages\n",
    "# renv::restore()"
   ]
  },
  {
   "cell_type": "code",
   "execution_count": 2,
   "metadata": {
    "vscode": {
     "languageId": "r"
    }
   },
   "outputs": [
    {
     "name": "stderr",
     "output_type": "stream",
     "text": [
      "\n",
      "Attaching package: 'renv'\n",
      "\n",
      "\n",
      "The following objects are masked from 'package:stats':\n",
      "\n",
      "    embed, update\n",
      "\n",
      "\n",
      "The following objects are masked from 'package:utils':\n",
      "\n",
      "    history, upgrade\n",
      "\n",
      "\n",
      "The following objects are masked from 'package:base':\n",
      "\n",
      "    autoload, load, remove\n",
      "\n",
      "\n",
      "Loading required package: ggplot2\n",
      "\n",
      "Registered S3 method overwritten by 'GGally':\n",
      "  method from   \n",
      "  +.gg   ggplot2\n",
      "\n",
      "── \u001b[1mAttaching packages\u001b[22m ────────────────────────────────────────────────────────────────────────────── tidymodels 1.1.1 ──\n",
      "\n",
      "\u001b[32m✔\u001b[39m \u001b[34mbroom       \u001b[39m 1.0.5      \u001b[32m✔\u001b[39m \u001b[34mrsample     \u001b[39m 1.2.0 \n",
      "\u001b[32m✔\u001b[39m \u001b[34mdials       \u001b[39m 1.2.0      \u001b[32m✔\u001b[39m \u001b[34mtibble      \u001b[39m 3.2.1 \n",
      "\u001b[32m✔\u001b[39m \u001b[34mdplyr       \u001b[39m 1.1.4      \u001b[32m✔\u001b[39m \u001b[34mtidyr       \u001b[39m 1.3.0 \n",
      "\u001b[32m✔\u001b[39m \u001b[34minfer       \u001b[39m 1.0.6      \u001b[32m✔\u001b[39m \u001b[34mtune        \u001b[39m 1.1.2 \n",
      "\u001b[32m✔\u001b[39m \u001b[34mmodeldata   \u001b[39m 1.3.0      \u001b[32m✔\u001b[39m \u001b[34mworkflows   \u001b[39m 1.1.4 \n",
      "\u001b[32m✔\u001b[39m \u001b[34mparsnip     \u001b[39m 1.2.0      \u001b[32m✔\u001b[39m \u001b[34mworkflowsets\u001b[39m 1.0.1 \n",
      "\u001b[32m✔\u001b[39m \u001b[34mpurrr       \u001b[39m 1.0.2      \u001b[32m✔\u001b[39m \u001b[34myardstick   \u001b[39m 1.3.0 \n",
      "\u001b[32m✔\u001b[39m \u001b[34mrecipes     \u001b[39m 1.0.10     \n",
      "\n",
      "── \u001b[1mConflicts\u001b[22m ───────────────────────────────────────────────────────────────────────────────── tidymodels_conflicts() ──\n",
      "\u001b[31m✖\u001b[39m \u001b[34mpurrr\u001b[39m::\u001b[32mdiscard()\u001b[39m  masks \u001b[34mscales\u001b[39m::discard()\n",
      "\u001b[31m✖\u001b[39m \u001b[34mdplyr\u001b[39m::\u001b[32mfilter()\u001b[39m   masks \u001b[34mstats\u001b[39m::filter()\n",
      "\u001b[31m✖\u001b[39m \u001b[34mdplyr\u001b[39m::\u001b[32mlag()\u001b[39m      masks \u001b[34mstats\u001b[39m::lag()\n",
      "\u001b[31m✖\u001b[39m \u001b[34mpurrr\u001b[39m::\u001b[32mmodify()\u001b[39m   masks \u001b[34mrenv\u001b[39m::modify()\n",
      "\u001b[31m✖\u001b[39m \u001b[34mrecipes\u001b[39m::\u001b[32mstep()\u001b[39m   masks \u001b[34mstats\u001b[39m::step()\n",
      "\u001b[31m✖\u001b[39m \u001b[34mrecipes\u001b[39m::\u001b[32mupdate()\u001b[39m masks \u001b[34mrenv\u001b[39m::update(), \u001b[34mstats\u001b[39m::update()\n",
      "\u001b[34m•\u001b[39m Learn how to get started at \u001b[32mhttps://www.tidymodels.org/start/\u001b[39m\n",
      "\n",
      "── \u001b[1mAttaching core tidyverse packages\u001b[22m ──────────────────────────────────────────────────────────────── tidyverse 2.0.0 ──\n",
      "\u001b[32m✔\u001b[39m \u001b[34mforcats  \u001b[39m 1.0.0     \u001b[32m✔\u001b[39m \u001b[34mreadr    \u001b[39m 2.1.4\n",
      "\u001b[32m✔\u001b[39m \u001b[34mlubridate\u001b[39m 1.9.3     \u001b[32m✔\u001b[39m \u001b[34mstringr  \u001b[39m 1.5.1\n",
      "── \u001b[1mConflicts\u001b[22m ────────────────────────────────────────────────────────────────────────────────── tidyverse_conflicts() ──\n",
      "\u001b[31m✖\u001b[39m \u001b[34mreadr\u001b[39m::\u001b[32mcol_factor()\u001b[39m masks \u001b[34mscales\u001b[39m::col_factor()\n",
      "\u001b[31m✖\u001b[39m \u001b[34mpurrr\u001b[39m::\u001b[32mdiscard()\u001b[39m    masks \u001b[34mscales\u001b[39m::discard()\n",
      "\u001b[31m✖\u001b[39m \u001b[34mdplyr\u001b[39m::\u001b[32mfilter()\u001b[39m     masks \u001b[34mstats\u001b[39m::filter()\n",
      "\u001b[31m✖\u001b[39m \u001b[34mstringr\u001b[39m::\u001b[32mfixed()\u001b[39m    masks \u001b[34mrecipes\u001b[39m::fixed()\n",
      "\u001b[31m✖\u001b[39m \u001b[34mdplyr\u001b[39m::\u001b[32mlag()\u001b[39m        masks \u001b[34mstats\u001b[39m::lag()\n",
      "\u001b[31m✖\u001b[39m \u001b[34mpurrr\u001b[39m::\u001b[32mmodify()\u001b[39m     masks \u001b[34mrenv\u001b[39m::modify()\n",
      "\u001b[31m✖\u001b[39m \u001b[34mreadr\u001b[39m::\u001b[32mspec()\u001b[39m       masks \u001b[34myardstick\u001b[39m::spec()\n",
      "\u001b[36mℹ\u001b[39m Use the conflicted package (\u001b[3m\u001b[34m<http://conflicted.r-lib.org/>\u001b[39m\u001b[23m) to force all conflicts to become errors\n",
      "Loading required package: lattice\n",
      "\n",
      "\n",
      "Attaching package: 'caret'\n",
      "\n",
      "\n",
      "The following objects are masked from 'package:yardstick':\n",
      "\n",
      "    precision, recall, sensitivity, specificity\n",
      "\n",
      "\n",
      "The following object is masked from 'package:purrr':\n",
      "\n",
      "    lift\n",
      "\n",
      "\n",
      "\n",
      "Attaching package: 'boot'\n",
      "\n",
      "\n",
      "The following object is masked from 'package:lattice':\n",
      "\n",
      "    melanoma\n",
      "\n",
      "\n",
      "Type 'citation(\"pROC\")' for a citation.\n",
      "\n",
      "\n",
      "Attaching package: 'pROC'\n",
      "\n",
      "\n",
      "The following objects are masked from 'package:stats':\n",
      "\n",
      "    cov, smooth, var\n",
      "\n",
      "\n",
      "Loading required package: Matrix\n",
      "\n",
      "\n",
      "Attaching package: 'Matrix'\n",
      "\n",
      "\n",
      "The following objects are masked from 'package:tidyr':\n",
      "\n",
      "    expand, pack, unpack\n",
      "\n",
      "\n",
      "Loaded glmnet 4.1-8\n",
      "\n"
     ]
    }
   ],
   "source": [
    "library(renv)\n",
    "library(GGally)\n",
    "library(tidymodels)\n",
    "library(tidyverse)\n",
    "library(leaps)\n",
    "library(caret)\n",
    "library(boot)\n",
    "library(pROC)\n",
    "library(repr)\n",
    "library(glmnet)"
   ]
  },
  {
   "cell_type": "code",
   "execution_count": 3,
   "metadata": {
    "vscode": {
     "languageId": "r"
    }
   },
   "outputs": [
    {
     "name": "stderr",
     "output_type": "stream",
     "text": [
      "\u001b[1mRows: \u001b[22m\u001b[34m39644\u001b[39m \u001b[1mColumns: \u001b[22m\u001b[34m61\u001b[39m\n",
      "\u001b[36m──\u001b[39m \u001b[1mColumn specification\u001b[22m \u001b[36m────────────────────────────────────────────────────────────────────────────────────────────────\u001b[39m\n",
      "\u001b[1mDelimiter:\u001b[22m \",\"\n",
      "\u001b[31mchr\u001b[39m  (1): url\n",
      "\u001b[32mdbl\u001b[39m (60): timedelta, n_tokens_title, n_tokens_content, n_unique_tokens, n_no...\n",
      "\n",
      "\u001b[36mℹ\u001b[39m Use `spec()` to retrieve the full column specification for this data.\n",
      "\u001b[36mℹ\u001b[39m Specify the column types or set `show_col_types = FALSE` to quiet this message.\n"
     ]
    }
   ],
   "source": [
    "articles <- read_csv('data/OnlineNewsPopularity.csv')"
   ]
  },
  {
   "cell_type": "markdown",
   "metadata": {},
   "source": [
    "### Exploratory Data Analysis"
   ]
  },
  {
   "cell_type": "code",
   "execution_count": 4,
   "metadata": {
    "vscode": {
     "languageId": "r"
    }
   },
   "outputs": [
    {
     "data": {
      "image/png": "[encoded data removed]",
      "text/plain": [
       "plot without title"
      ]
     },
     "metadata": {
      "image/png": {
       "height": 420,
       "width": 420
      }
     },
     "output_type": "display_data"
    }
   ],
   "source": [
    "ggplot(data = articles) +\n",
    "    geom_boxplot(aes(y = shares)) +\n",
    "    labs(title = \"Boxplot of Shares\") +\n",
    "    ylab(label = 'Shares') +\n",
    "    theme(axis.title = element_text(size = 20), axis.text = element_text(size = 15), title = element_text(size = 25))"
   ]
  },
  {
   "cell_type": "code",
   "execution_count": 5,
   "metadata": {
    "vscode": {
     "languageId": "r"
    }
   },
   "outputs": [
    {
     "data": {
      "text/plain": [
       "   Min. 1st Qu.  Median    Mean 3rd Qu.    Max. \n",
       "      1     946    1400    3395    2800  843300 "
      ]
     },
     "metadata": {},
     "output_type": "display_data"
    },
    {
     "data": {
      "text/html": [
       "11626.9507486517"
      ],
      "text/latex": [
       "11626.9507486517"
      ],
      "text/markdown": [
       "11626.9507486517"
      ],
      "text/plain": [
       "[1] 11626.95"
      ]
     },
     "metadata": {},
     "output_type": "display_data"
    }
   ],
   "source": [
    "summary(articles$shares)\n",
    "sd(articles$shares)"
   ]
  },
  {
   "cell_type": "markdown",
   "metadata": {},
   "source": [
    "The target variable is centered at 1400, while the spread is quite large, with a standard deviation of 11627. Therefore, we will adjust our work from regression to classification to determine whether an article will be popular. Our definition of an article being popular would to be above average, so an article will be classified as popular if its above 1400 shares, and will not be popular if below 1400."
   ]
  },
  {
   "cell_type": "code",
   "execution_count": 6,
   "metadata": {
    "vscode": {
     "languageId": "r"
    }
   },
   "outputs": [],
   "source": [
    "articles_temp <- articles\n",
    "\n",
    "drop_columns <- c('url')\n",
    "\n",
    "articles_temp <- articles_temp[, !(names(articles_temp) %in% c(drop_columns))]#, one_hot_columns))]\n",
    "\n",
    "articles_temp <- articles_temp |> mutate('shares' = ifelse(shares >= 1400, 1 , 0))\n",
    "\n",
    "articles_clean <- articles_temp"
   ]
  },
  {
   "cell_type": "code",
   "execution_count": 7,
   "metadata": {
    "vscode": {
     "languageId": "r"
    }
   },
   "outputs": [],
   "source": [
    "write.csv(articles_clean, 'data/clean_Articles.csv')"
   ]
  },
  {
   "cell_type": "markdown",
   "metadata": {},
   "source": []
  },
  {
   "cell_type": "code",
   "execution_count": 8,
   "metadata": {
    "vscode": {
     "languageId": "r"
    }
   },
   "outputs": [
    {
     "data": {
      "text/html": [
       "<table class=\"dataframe\">\n",
       "<caption>A tibble: 3 × 60</caption>\n",
       "<thead>\n",
       "\t<tr><th scope=col>timedelta</th><th scope=col>n_tokens_title</th><th scope=col>n_tokens_content</th><th scope=col>n_unique_tokens</th><th scope=col>n_non_stop_words</th><th scope=col>n_non_stop_unique_tokens</th><th scope=col>num_hrefs</th><th scope=col>num_self_hrefs</th><th scope=col>num_imgs</th><th scope=col>num_videos</th><th scope=col>⋯</th><th scope=col>min_positive_polarity</th><th scope=col>max_positive_polarity</th><th scope=col>avg_negative_polarity</th><th scope=col>min_negative_polarity</th><th scope=col>max_negative_polarity</th><th scope=col>title_subjectivity</th><th scope=col>title_sentiment_polarity</th><th scope=col>abs_title_subjectivity</th><th scope=col>abs_title_sentiment_polarity</th><th scope=col>shares</th></tr>\n",
       "\t<tr><th scope=col>&lt;dbl&gt;</th><th scope=col>&lt;dbl&gt;</th><th scope=col>&lt;dbl&gt;</th><th scope=col>&lt;dbl&gt;</th><th scope=col>&lt;dbl&gt;</th><th scope=col>&lt;dbl&gt;</th><th scope=col>&lt;dbl&gt;</th><th scope=col>&lt;dbl&gt;</th><th scope=col>&lt;dbl&gt;</th><th scope=col>&lt;dbl&gt;</th><th scope=col>⋯</th><th scope=col>&lt;dbl&gt;</th><th scope=col>&lt;dbl&gt;</th><th scope=col>&lt;dbl&gt;</th><th scope=col>&lt;dbl&gt;</th><th scope=col>&lt;dbl&gt;</th><th scope=col>&lt;dbl&gt;</th><th scope=col>&lt;dbl&gt;</th><th scope=col>&lt;dbl&gt;</th><th scope=col>&lt;dbl&gt;</th><th scope=col>&lt;dbl&gt;</th></tr>\n",
       "</thead>\n",
       "<tbody>\n",
       "\t<tr><td>317</td><td>9</td><td> 549</td><td>0.4935305</td><td>1</td><td>0.6827586</td><td> 8</td><td>7</td><td> 2</td><td>0</td><td>⋯</td><td>0.03333333</td><td>1</td><td>-0.2941358</td><td>-0.8</td><td>-0.125</td><td>0.5</td><td>0.5</td><td>0.0</td><td>0.5</td><td>1</td></tr>\n",
       "\t<tr><td>338</td><td>9</td><td> 452</td><td>0.5193622</td><td>1</td><td>0.6000000</td><td>18</td><td>1</td><td>13</td><td>0</td><td>⋯</td><td>0.10000000</td><td>1</td><td>-0.2171875</td><td>-0.4</td><td>-0.050</td><td>0.0</td><td>0.3</td><td>0.5</td><td>0.3</td><td>1</td></tr>\n",
       "\t<tr><td>584</td><td>7</td><td>1361</td><td>0.3924890</td><td>1</td><td>0.6248237</td><td> 8</td><td>3</td><td> 1</td><td>1</td><td>⋯</td><td>0.03333333</td><td>1</td><td>-0.2574653</td><td>-1.0</td><td>-0.050</td><td>0.5</td><td>0.5</td><td>0.0</td><td>0.5</td><td>1</td></tr>\n",
       "</tbody>\n",
       "</table>\n"
      ],
      "text/latex": [
       "A tibble: 3 × 60\n",
       "\\begin{tabular}{lllllllllllllllllllll}\n",
       " timedelta & n\\_tokens\\_title & n\\_tokens\\_content & n\\_unique\\_tokens & n\\_non\\_stop\\_words & n\\_non\\_stop\\_unique\\_tokens & num\\_hrefs & num\\_self\\_hrefs & num\\_imgs & num\\_videos & ⋯ & min\\_positive\\_polarity & max\\_positive\\_polarity & avg\\_negative\\_polarity & min\\_negative\\_polarity & max\\_negative\\_polarity & title\\_subjectivity & title\\_sentiment\\_polarity & abs\\_title\\_subjectivity & abs\\_title\\_sentiment\\_polarity & shares\\\\\n",
       " <dbl> & <dbl> & <dbl> & <dbl> & <dbl> & <dbl> & <dbl> & <dbl> & <dbl> & <dbl> & ⋯ & <dbl> & <dbl> & <dbl> & <dbl> & <dbl> & <dbl> & <dbl> & <dbl> & <dbl> & <dbl>\\\\\n",
       "\\hline\n",
       "\t 317 & 9 &  549 & 0.4935305 & 1 & 0.6827586 &  8 & 7 &  2 & 0 & ⋯ & 0.03333333 & 1 & -0.2941358 & -0.8 & -0.125 & 0.5 & 0.5 & 0.0 & 0.5 & 1\\\\\n",
       "\t 338 & 9 &  452 & 0.5193622 & 1 & 0.6000000 & 18 & 1 & 13 & 0 & ⋯ & 0.10000000 & 1 & -0.2171875 & -0.4 & -0.050 & 0.0 & 0.3 & 0.5 & 0.3 & 1\\\\\n",
       "\t 584 & 7 & 1361 & 0.3924890 & 1 & 0.6248237 &  8 & 3 &  1 & 1 & ⋯ & 0.03333333 & 1 & -0.2574653 & -1.0 & -0.050 & 0.5 & 0.5 & 0.0 & 0.5 & 1\\\\\n",
       "\\end{tabular}\n"
      ],
      "text/markdown": [
       "\n",
       "A tibble: 3 × 60\n",
       "\n",
       "| timedelta &lt;dbl&gt; | n_tokens_title &lt;dbl&gt; | n_tokens_content &lt;dbl&gt; | n_unique_tokens &lt;dbl&gt; | n_non_stop_words &lt;dbl&gt; | n_non_stop_unique_tokens &lt;dbl&gt; | num_hrefs &lt;dbl&gt; | num_self_hrefs &lt;dbl&gt; | num_imgs &lt;dbl&gt; | num_videos &lt;dbl&gt; | ⋯ ⋯ | min_positive_polarity &lt;dbl&gt; | max_positive_polarity &lt;dbl&gt; | avg_negative_polarity &lt;dbl&gt; | min_negative_polarity &lt;dbl&gt; | max_negative_polarity &lt;dbl&gt; | title_subjectivity &lt;dbl&gt; | title_sentiment_polarity &lt;dbl&gt; | abs_title_subjectivity &lt;dbl&gt; | abs_title_sentiment_polarity &lt;dbl&gt; | shares &lt;dbl&gt; |\n",
       "|---|---|---|---|---|---|---|---|---|---|---|---|---|---|---|---|---|---|---|---|---|\n",
       "| 317 | 9 |  549 | 0.4935305 | 1 | 0.6827586 |  8 | 7 |  2 | 0 | ⋯ | 0.03333333 | 1 | -0.2941358 | -0.8 | -0.125 | 0.5 | 0.5 | 0.0 | 0.5 | 1 |\n",
       "| 338 | 9 |  452 | 0.5193622 | 1 | 0.6000000 | 18 | 1 | 13 | 0 | ⋯ | 0.10000000 | 1 | -0.2171875 | -0.4 | -0.050 | 0.0 | 0.3 | 0.5 | 0.3 | 1 |\n",
       "| 584 | 7 | 1361 | 0.3924890 | 1 | 0.6248237 |  8 | 3 |  1 | 1 | ⋯ | 0.03333333 | 1 | -0.2574653 | -1.0 | -0.050 | 0.5 | 0.5 | 0.0 | 0.5 | 1 |\n",
       "\n"
      ],
      "text/plain": [
       "  timedelta n_tokens_title n_tokens_content n_unique_tokens n_non_stop_words\n",
       "1 317       9               549             0.4935305       1               \n",
       "2 338       9               452             0.5193622       1               \n",
       "3 584       7              1361             0.3924890       1               \n",
       "  n_non_stop_unique_tokens num_hrefs num_self_hrefs num_imgs num_videos ⋯\n",
       "1 0.6827586                 8        7               2       0          ⋯\n",
       "2 0.6000000                18        1              13       0          ⋯\n",
       "3 0.6248237                 8        3               1       1          ⋯\n",
       "  min_positive_polarity max_positive_polarity avg_negative_polarity\n",
       "1 0.03333333            1                     -0.2941358           \n",
       "2 0.10000000            1                     -0.2171875           \n",
       "3 0.03333333            1                     -0.2574653           \n",
       "  min_negative_polarity max_negative_polarity title_subjectivity\n",
       "1 -0.8                  -0.125                0.5               \n",
       "2 -0.4                  -0.050                0.0               \n",
       "3 -1.0                  -0.050                0.5               \n",
       "  title_sentiment_polarity abs_title_subjectivity abs_title_sentiment_polarity\n",
       "1 0.5                      0.0                    0.5                         \n",
       "2 0.3                      0.5                    0.3                         \n",
       "3 0.5                      0.0                    0.5                         \n",
       "  shares\n",
       "1 1     \n",
       "2 1     \n",
       "3 1     "
      ]
     },
     "metadata": {},
     "output_type": "display_data"
    },
    {
     "data": {
      "text/html": [
       "27750"
      ],
      "text/latex": [
       "27750"
      ],
      "text/markdown": [
       "27750"
      ],
      "text/plain": [
       "[1] 27750"
      ]
     },
     "metadata": {},
     "output_type": "display_data"
    },
    {
     "data": {
      "text/html": [
       "<table class=\"dataframe\">\n",
       "<caption>A tibble: 3 × 60</caption>\n",
       "<thead>\n",
       "\t<tr><th scope=col>timedelta</th><th scope=col>n_tokens_title</th><th scope=col>n_tokens_content</th><th scope=col>n_unique_tokens</th><th scope=col>n_non_stop_words</th><th scope=col>n_non_stop_unique_tokens</th><th scope=col>num_hrefs</th><th scope=col>num_self_hrefs</th><th scope=col>num_imgs</th><th scope=col>num_videos</th><th scope=col>⋯</th><th scope=col>min_positive_polarity</th><th scope=col>max_positive_polarity</th><th scope=col>avg_negative_polarity</th><th scope=col>min_negative_polarity</th><th scope=col>max_negative_polarity</th><th scope=col>title_subjectivity</th><th scope=col>title_sentiment_polarity</th><th scope=col>abs_title_subjectivity</th><th scope=col>abs_title_sentiment_polarity</th><th scope=col>shares</th></tr>\n",
       "\t<tr><th scope=col>&lt;dbl&gt;</th><th scope=col>&lt;dbl&gt;</th><th scope=col>&lt;dbl&gt;</th><th scope=col>&lt;dbl&gt;</th><th scope=col>&lt;dbl&gt;</th><th scope=col>&lt;dbl&gt;</th><th scope=col>&lt;dbl&gt;</th><th scope=col>&lt;dbl&gt;</th><th scope=col>&lt;dbl&gt;</th><th scope=col>&lt;dbl&gt;</th><th scope=col>⋯</th><th scope=col>&lt;dbl&gt;</th><th scope=col>&lt;dbl&gt;</th><th scope=col>&lt;dbl&gt;</th><th scope=col>&lt;dbl&gt;</th><th scope=col>&lt;dbl&gt;</th><th scope=col>&lt;dbl&gt;</th><th scope=col>&lt;dbl&gt;</th><th scope=col>&lt;dbl&gt;</th><th scope=col>&lt;dbl&gt;</th><th scope=col>&lt;dbl&gt;</th></tr>\n",
       "</thead>\n",
       "<tbody>\n",
       "\t<tr><td>731</td><td>9</td><td>255</td><td>0.6047431</td><td>1</td><td>0.7919463</td><td>3</td><td>1</td><td>1</td><td> 0</td><td>⋯</td><td>0.03333333</td><td>0.7</td><td>-0.1187500</td><td>-0.125</td><td>-0.1000000</td><td>0</td><td> 0</td><td>0.5</td><td>0</td><td>0</td></tr>\n",
       "\t<tr><td>731</td><td>9</td><td>211</td><td>0.5751295</td><td>1</td><td>0.6638655</td><td>3</td><td>1</td><td>1</td><td> 0</td><td>⋯</td><td>0.10000000</td><td>1.0</td><td>-0.4666667</td><td>-0.800</td><td>-0.1333333</td><td>0</td><td> 0</td><td>0.5</td><td>0</td><td>1</td></tr>\n",
       "\t<tr><td>731</td><td>9</td><td>285</td><td>0.7441860</td><td>1</td><td>0.8415301</td><td>4</td><td>2</td><td>0</td><td>21</td><td>⋯</td><td>0.16000000</td><td>1.0</td><td>-0.3378889</td><td>-0.700</td><td>-0.1000000</td><td>1</td><td>-1</td><td>0.5</td><td>1</td><td>1</td></tr>\n",
       "</tbody>\n",
       "</table>\n"
      ],
      "text/latex": [
       "A tibble: 3 × 60\n",
       "\\begin{tabular}{lllllllllllllllllllll}\n",
       " timedelta & n\\_tokens\\_title & n\\_tokens\\_content & n\\_unique\\_tokens & n\\_non\\_stop\\_words & n\\_non\\_stop\\_unique\\_tokens & num\\_hrefs & num\\_self\\_hrefs & num\\_imgs & num\\_videos & ⋯ & min\\_positive\\_polarity & max\\_positive\\_polarity & avg\\_negative\\_polarity & min\\_negative\\_polarity & max\\_negative\\_polarity & title\\_subjectivity & title\\_sentiment\\_polarity & abs\\_title\\_subjectivity & abs\\_title\\_sentiment\\_polarity & shares\\\\\n",
       " <dbl> & <dbl> & <dbl> & <dbl> & <dbl> & <dbl> & <dbl> & <dbl> & <dbl> & <dbl> & ⋯ & <dbl> & <dbl> & <dbl> & <dbl> & <dbl> & <dbl> & <dbl> & <dbl> & <dbl> & <dbl>\\\\\n",
       "\\hline\n",
       "\t 731 & 9 & 255 & 0.6047431 & 1 & 0.7919463 & 3 & 1 & 1 &  0 & ⋯ & 0.03333333 & 0.7 & -0.1187500 & -0.125 & -0.1000000 & 0 &  0 & 0.5 & 0 & 0\\\\\n",
       "\t 731 & 9 & 211 & 0.5751295 & 1 & 0.6638655 & 3 & 1 & 1 &  0 & ⋯ & 0.10000000 & 1.0 & -0.4666667 & -0.800 & -0.1333333 & 0 &  0 & 0.5 & 0 & 1\\\\\n",
       "\t 731 & 9 & 285 & 0.7441860 & 1 & 0.8415301 & 4 & 2 & 0 & 21 & ⋯ & 0.16000000 & 1.0 & -0.3378889 & -0.700 & -0.1000000 & 1 & -1 & 0.5 & 1 & 1\\\\\n",
       "\\end{tabular}\n"
      ],
      "text/markdown": [
       "\n",
       "A tibble: 3 × 60\n",
       "\n",
       "| timedelta &lt;dbl&gt; | n_tokens_title &lt;dbl&gt; | n_tokens_content &lt;dbl&gt; | n_unique_tokens &lt;dbl&gt; | n_non_stop_words &lt;dbl&gt; | n_non_stop_unique_tokens &lt;dbl&gt; | num_hrefs &lt;dbl&gt; | num_self_hrefs &lt;dbl&gt; | num_imgs &lt;dbl&gt; | num_videos &lt;dbl&gt; | ⋯ ⋯ | min_positive_polarity &lt;dbl&gt; | max_positive_polarity &lt;dbl&gt; | avg_negative_polarity &lt;dbl&gt; | min_negative_polarity &lt;dbl&gt; | max_negative_polarity &lt;dbl&gt; | title_subjectivity &lt;dbl&gt; | title_sentiment_polarity &lt;dbl&gt; | abs_title_subjectivity &lt;dbl&gt; | abs_title_sentiment_polarity &lt;dbl&gt; | shares &lt;dbl&gt; |\n",
       "|---|---|---|---|---|---|---|---|---|---|---|---|---|---|---|---|---|---|---|---|---|\n",
       "| 731 | 9 | 255 | 0.6047431 | 1 | 0.7919463 | 3 | 1 | 1 |  0 | ⋯ | 0.03333333 | 0.7 | -0.1187500 | -0.125 | -0.1000000 | 0 |  0 | 0.5 | 0 | 0 |\n",
       "| 731 | 9 | 211 | 0.5751295 | 1 | 0.6638655 | 3 | 1 | 1 |  0 | ⋯ | 0.10000000 | 1.0 | -0.4666667 | -0.800 | -0.1333333 | 0 |  0 | 0.5 | 0 | 1 |\n",
       "| 731 | 9 | 285 | 0.7441860 | 1 | 0.8415301 | 4 | 2 | 0 | 21 | ⋯ | 0.16000000 | 1.0 | -0.3378889 | -0.700 | -0.1000000 | 1 | -1 | 0.5 | 1 | 1 |\n",
       "\n"
      ],
      "text/plain": [
       "  timedelta n_tokens_title n_tokens_content n_unique_tokens n_non_stop_words\n",
       "1 731       9              255              0.6047431       1               \n",
       "2 731       9              211              0.5751295       1               \n",
       "3 731       9              285              0.7441860       1               \n",
       "  n_non_stop_unique_tokens num_hrefs num_self_hrefs num_imgs num_videos ⋯\n",
       "1 0.7919463                3         1              1         0         ⋯\n",
       "2 0.6638655                3         1              1         0         ⋯\n",
       "3 0.8415301                4         2              0        21         ⋯\n",
       "  min_positive_polarity max_positive_polarity avg_negative_polarity\n",
       "1 0.03333333            0.7                   -0.1187500           \n",
       "2 0.10000000            1.0                   -0.4666667           \n",
       "3 0.16000000            1.0                   -0.3378889           \n",
       "  min_negative_polarity max_negative_polarity title_subjectivity\n",
       "1 -0.125                -0.1000000            0                 \n",
       "2 -0.800                -0.1333333            0                 \n",
       "3 -0.700                -0.1000000            1                 \n",
       "  title_sentiment_polarity abs_title_subjectivity abs_title_sentiment_polarity\n",
       "1  0                       0.5                    0                           \n",
       "2  0                       0.5                    0                           \n",
       "3 -1                       0.5                    1                           \n",
       "  shares\n",
       "1 0     \n",
       "2 1     \n",
       "3 1     "
      ]
     },
     "metadata": {},
     "output_type": "display_data"
    },
    {
     "data": {
      "text/html": [
       "11894"
      ],
      "text/latex": [
       "11894"
      ],
      "text/markdown": [
       "11894"
      ],
      "text/plain": [
       "[1] 11894"
      ]
     },
     "metadata": {},
     "output_type": "display_data"
    }
   ],
   "source": [
    "set.seed(2024)\n",
    "\n",
    "articles_clean$ID <- 1:nrow(articles_clean)\n",
    "\n",
    "training_articles <- articles_clean |> slice_sample(prop = 0.7)\n",
    "\n",
    "testing_articles <- anti_join(articles_clean, training_articles, by = \"ID\")\n",
    "\n",
    "\n",
    "training_articles <- training_articles[, !(names(training_articles) %in% c('ID'))]\n",
    "testing_articles <- testing_articles[, !(names(testing_articles) %in% c('ID'))]\n",
    "\n",
    "head(training_articles, 3)\n",
    "nrow(training_articles)\n",
    "\n",
    "head(testing_articles, 3)\n",
    "nrow(testing_articles)"
   ]
  },
  {
   "cell_type": "code",
   "execution_count": 9,
   "metadata": {
    "vscode": {
     "languageId": "r"
    }
   },
   "outputs": [],
   "source": [
    "write.csv(training_articles, 'data/training_data.csv')\n",
    "write.csv(testing_articles, 'data/testing_data.csv')"
   ]
  },
  {
   "cell_type": "markdown",
   "metadata": {},
   "source": [
    "Going to fit an initial linear model using all attributes to receive a baseline ordinary model for logistic regression. Using logistic regression since our target variable is a classification problem, and not a regression problem."
   ]
  },
  {
   "cell_type": "code",
   "execution_count": 10,
   "metadata": {
    "vscode": {
     "languageId": "r"
    }
   },
   "outputs": [
    {
     "data": {
      "text/plain": [
       "\n",
       "Call:\n",
       "glm(formula = shares ~ ., family = binomial, data = training_articles)\n",
       "\n",
       "Coefficients: (2 not defined because of singularities)\n",
       "                                Estimate Std. Error z value Pr(>|z|)    \n",
       "(Intercept)                   -1.845e+02  1.562e+03  -0.118 0.905980    \n",
       "timedelta                      7.715e-06  8.787e-05   0.088 0.930032    \n",
       "n_tokens_title                -2.600e-03  6.455e-03  -0.403 0.687091    \n",
       "n_tokens_content               7.275e-05  5.219e-05   1.394 0.163391    \n",
       "n_unique_tokens               -6.154e-01  4.315e-01  -1.426 0.153765    \n",
       "n_non_stop_words               6.883e-01  1.501e+00   0.459 0.646503    \n",
       "n_non_stop_unique_tokens      -1.409e-01  3.655e-01  -0.386 0.699815    \n",
       "num_hrefs                      7.598e-03  1.583e-03   4.800 1.58e-06 ***\n",
       "num_self_hrefs                -1.479e-02  4.323e-03  -3.420 0.000625 ***\n",
       "num_imgs                       1.542e-03  2.038e-03   0.757 0.449320    \n",
       "num_videos                    -1.821e-03  3.629e-03  -0.502 0.615827    \n",
       "average_token_length          -1.171e-01  5.467e-02  -2.142 0.032166 *  \n",
       "num_keywords                   3.981e-02  8.343e-03   4.772 1.83e-06 ***\n",
       "data_channel_is_lifestyle     -6.642e-02  8.997e-02  -0.738 0.460339    \n",
       "data_channel_is_entertainment -3.268e-01  5.669e-02  -5.764 8.21e-09 ***\n",
       "data_channel_is_bus           -2.114e-01  8.695e-02  -2.432 0.015029 *  \n",
       "data_channel_is_socmed         8.607e-01  8.806e-02   9.774  < 2e-16 ***\n",
       "data_channel_is_tech           5.490e-01  8.375e-02   6.555 5.56e-11 ***\n",
       "data_channel_is_world          9.159e-02  8.452e-02   1.084 0.278505    \n",
       "kw_min_min                     1.591e-03  3.717e-04   4.280 1.87e-05 ***\n",
       "kw_max_min                    -2.123e-06  1.676e-05  -0.127 0.899225    \n",
       "kw_avg_min                    -3.193e-05  1.056e-04  -0.302 0.762422    \n",
       "kw_min_max                    -4.584e-07  2.565e-07  -1.787 0.073939 .  \n",
       "kw_max_max                    -2.732e-07  1.342e-07  -2.036 0.041796 *  \n",
       "kw_avg_max                    -6.735e-07  1.912e-07  -3.522 0.000428 ***\n",
       "kw_min_avg                    -1.018e-04  1.754e-05  -5.806 6.41e-09 ***\n",
       "kw_max_avg                    -9.206e-05  6.108e-06 -15.071  < 2e-16 ***\n",
       "kw_avg_avg                     7.402e-04  3.514e-05  21.064  < 2e-16 ***\n",
       "self_reference_min_shares      1.327e-06  2.361e-06   0.562 0.573945    \n",
       "self_reference_max_shares      4.627e-07  1.092e-06   0.424 0.671851    \n",
       "self_reference_avg_sharess     3.107e-06  2.972e-06   1.045 0.295877    \n",
       "weekday_is_monday             -7.420e-01  6.089e-02 -12.185  < 2e-16 ***\n",
       "weekday_is_tuesday            -8.355e-01  6.015e-02 -13.890  < 2e-16 ***\n",
       "weekday_is_wednesday          -8.605e-01  6.012e-02 -14.314  < 2e-16 ***\n",
       "weekday_is_thursday           -7.824e-01  6.026e-02 -12.983  < 2e-16 ***\n",
       "weekday_is_friday             -5.813e-01  6.226e-02  -9.336  < 2e-16 ***\n",
       "weekday_is_saturday            2.261e-01  7.826e-02   2.889 0.003866 ** \n",
       "weekday_is_sunday                     NA         NA      NA       NA    \n",
       "is_weekend                            NA         NA      NA       NA    \n",
       "LDA_00                         1.843e+02  1.562e+03   0.118 0.906059    \n",
       "LDA_01                         1.833e+02  1.562e+03   0.117 0.906568    \n",
       "LDA_02                         1.830e+02  1.562e+03   0.117 0.906724    \n",
       "LDA_03                         1.833e+02  1.562e+03   0.117 0.906567    \n",
       "LDA_04                         1.837e+02  1.562e+03   0.118 0.906371    \n",
       "global_subjectivity            9.756e-01  1.898e-01   5.140 2.75e-07 ***\n",
       "global_sentiment_polarity      1.451e-01  3.707e-01   0.391 0.695527    \n",
       "global_rate_positive_words    -5.165e+00  1.595e+00  -3.239 0.001199 ** \n",
       "global_rate_negative_words     7.258e+00  3.101e+00   2.341 0.019239 *  \n",
       "rate_positive_words            1.937e-01  1.471e+00   0.132 0.895241    \n",
       "rate_negative_words           -6.100e-01  1.481e+00  -0.412 0.680432    \n",
       "avg_positive_polarity         -4.376e-01  3.045e-01  -1.437 0.150651    \n",
       "min_positive_polarity         -5.430e-01  2.551e-01  -2.129 0.033292 *  \n",
       "max_positive_polarity          6.292e-02  9.605e-02   0.655 0.512453    \n",
       "avg_negative_polarity         -1.472e-01  2.822e-01  -0.522 0.601949    \n",
       "min_negative_polarity          4.424e-02  1.037e-01   0.427 0.669729    \n",
       "max_negative_polarity          1.820e-01  2.332e-01   0.780 0.435107    \n",
       "title_subjectivity             6.445e-02  6.155e-02   1.047 0.295094    \n",
       "title_sentiment_polarity       2.035e-01  5.659e-02   3.596 0.000323 ***\n",
       "abs_title_subjectivity         2.124e-01  8.168e-02   2.600 0.009321 ** \n",
       "abs_title_sentiment_polarity   8.032e-02  8.926e-02   0.900 0.368215    \n",
       "---\n",
       "Signif. codes:  0 '***' 0.001 '**' 0.01 '*' 0.05 '.' 0.1 ' ' 1\n",
       "\n",
       "(Dispersion parameter for binomial family taken to be 1)\n",
       "\n",
       "    Null deviance: 38357  on 27749  degrees of freedom\n",
       "Residual deviance: 34601  on 27692  degrees of freedom\n",
       "AIC: 34717\n",
       "\n",
       "Number of Fisher Scoring iterations: 8\n"
      ]
     },
     "metadata": {},
     "output_type": "display_data"
    }
   ],
   "source": [
    "article_logistic_regression <- glm(shares ~ ., data = training_articles, family = binomial)\n",
    "\n",
    "summary(article_logistic_regression)"
   ]
  },
  {
   "cell_type": "code",
   "execution_count": 11,
   "metadata": {
    "vscode": {
     "languageId": "r"
    }
   },
   "outputs": [
    {
     "name": "stderr",
     "output_type": "stream",
     "text": [
      "Warning message in predict.lm(object, newdata, se.fit, scale = 1, type = if (type == :\n",
      "\"prediction from rank-deficient fit; attr(*, \"non-estim\") has doubtful cases\"\n",
      "Warning message in predict.lm(object, newdata, se.fit, scale = 1, type = if (type == :\n",
      "\"prediction from rank-deficient fit; attr(*, \"non-estim\") has doubtful cases\"\n"
     ]
    },
    {
     "data": {
      "text/html": [
       "0.34645045045045"
      ],
      "text/latex": [
       "0.34645045045045"
      ],
      "text/markdown": [
       "0.34645045045045"
      ],
      "text/plain": [
       "[1] 0.3464505"
      ]
     },
     "metadata": {},
     "output_type": "display_data"
    }
   ],
   "source": [
    "# Code adapted from UBC STAT 301 Lectures 12/13, Gabriela V. Cohen Freue 2022\n",
    "\n",
    "misclassification_rate <- function(y, p.hat){\n",
    " y_hat <- round(p.hat, 0)\n",
    " error_rate <- sum(abs(y - y_hat) == 1) / length(y_hat)\n",
    " return(error_rate)\n",
    "}\n",
    "\n",
    "cv_logistic <-\n",
    " cv.glm(\n",
    " glmfit = article_logistic_regression,\n",
    " data = training_articles,\n",
    " K = 10,\n",
    " cost = misclassification_rate)\n",
    "\n",
    "cv_logistic$delta[1]\n"
   ]
  },
  {
   "cell_type": "markdown",
   "metadata": {},
   "source": [
    "Our training error is 0.346, which is large. The large training error could be due to multiple factors, such as the underlying distribution. Due to the amount of parameters, each case is likely to have an unique set of attribute values so it becomes more difficult for the model"
   ]
  },
  {
   "cell_type": "code",
   "execution_count": 12,
   "metadata": {
    "vscode": {
     "languageId": "r"
    }
   },
   "outputs": [
    {
     "data": {
      "text/html": [
       "<style>\n",
       ".dl-inline {width: auto; margin:0; padding: 0}\n",
       ".dl-inline>dt, .dl-inline>dd {float: none; width: auto; display: inline-block}\n",
       ".dl-inline>dt::after {content: \":\\0020\"; padding-right: .5ex}\n",
       ".dl-inline>dt:not(:first-of-type) {padding-left: .5ex}\n",
       "</style><dl class=dl-inline><dt>1</dt><dd>1</dd><dt>2</dt><dd>1</dd><dt>3</dt><dd>1</dd><dt>4</dt><dd>0</dd><dt>5</dt><dd>1</dd><dt>6</dt><dd>0</dd></dl>\n"
      ],
      "text/latex": [
       "\\begin{description*}\n",
       "\\item[1] 1\n",
       "\\item[2] 1\n",
       "\\item[3] 1\n",
       "\\item[4] 0\n",
       "\\item[5] 1\n",
       "\\item[6] 0\n",
       "\\end{description*}\n"
      ],
      "text/markdown": [
       "1\n",
       ":   12\n",
       ":   13\n",
       ":   14\n",
       ":   05\n",
       ":   16\n",
       ":   0\n",
       "\n"
      ],
      "text/plain": [
       "1 2 3 4 5 6 \n",
       "1 1 1 0 1 0 "
      ]
     },
     "metadata": {},
     "output_type": "display_data"
    }
   ],
   "source": [
    "articles_pred_class <- \n",
    "    round(predict(article_logistic_regression, newdata = training_articles, type = 'response'), 0)\n",
    "\n",
    "head(articles_pred_class)"
   ]
  },
  {
   "cell_type": "code",
   "execution_count": 13,
   "metadata": {
    "vscode": {
     "languageId": "r"
    }
   },
   "outputs": [
    {
     "data": {
      "text/plain": [
       "Confusion Matrix and Statistics\n",
       "\n",
       "          Reference\n",
       "Prediction     0     1\n",
       "         0  7890  4459\n",
       "         1  5100 10301\n",
       "                                          \n",
       "               Accuracy : 0.6555          \n",
       "                 95% CI : (0.6499, 0.6611)\n",
       "    No Information Rate : 0.5319          \n",
       "    P-Value [Acc > NIR] : < 2.2e-16       \n",
       "                                          \n",
       "                  Kappa : 0.3062          \n",
       "                                          \n",
       " Mcnemar's Test P-Value : 5.911e-11       \n",
       "                                          \n",
       "            Sensitivity : 0.6074          \n",
       "            Specificity : 0.6979          \n",
       "         Pos Pred Value : 0.6389          \n",
       "         Neg Pred Value : 0.6689          \n",
       "             Prevalence : 0.4681          \n",
       "         Detection Rate : 0.2843          \n",
       "   Detection Prevalence : 0.4450          \n",
       "      Balanced Accuracy : 0.6526          \n",
       "                                          \n",
       "       'Positive' Class : 0               \n",
       "                                          "
      ]
     },
     "metadata": {},
     "output_type": "display_data"
    }
   ],
   "source": [
    "articles_conf_mat <- \n",
    "        confusionMatrix(\n",
    "            data = as.factor(articles_pred_class),\n",
    "            reference = as.factor(training_articles$shares)\n",
    "        )\n",
    "\n",
    "articles_conf_mat"
   ]
  },
  {
   "cell_type": "markdown",
   "metadata": {},
   "source": [
    "### TODO\n",
    "Using our ordinary model as well as the training data, we predict whether an article is popular or not. Then we use that along with the true values for the confusion matrix, which shows ..."
   ]
  },
  {
   "cell_type": "code",
   "execution_count": 14,
   "metadata": {
    "vscode": {
     "languageId": "r"
    }
   },
   "outputs": [
    {
     "name": "stderr",
     "output_type": "stream",
     "text": [
      "Setting levels: control = 0, case = 1\n",
      "\n",
      "Setting direction: controls < cases\n",
      "\n"
     ]
    },
    {
     "data": {
      "image/png": "[encoded data removed]",
      "text/plain": [
       "Plot with title \"ROC Curves for Article Dataset\""
      ]
     },
     "metadata": {
      "image/png": {
       "height": 480,
       "width": 480
      }
     },
     "output_type": "display_data"
    }
   ],
   "source": [
    "options(repr.plot.width = 8, repr.plot.height = 8)\n",
    "\n",
    "ROC_full_log <- roc(\n",
    "    response = training_articles$shares,\n",
    "    predictor = predict(article_logistic_regression, type = 'response')\n",
    ")\n",
    "\n",
    "plot(ROC_full_log,\n",
    "        print.auc = TRUE, col = 'blue', lwd = 3, lty = 2,\n",
    "        main = 'ROC Curves for Article Dataset'\n",
    "    )"
   ]
  },
  {
   "cell_type": "code",
   "execution_count": 15,
   "metadata": {
    "vscode": {
     "languageId": "r"
    }
   },
   "outputs": [
    {
     "data": {
      "text/html": [
       "<table class=\"dataframe\">\n",
       "<caption>A tibble: 1 × 2</caption>\n",
       "<thead>\n",
       "\t<tr><th scope=col>Model</th><th scope=col>AUC</th></tr>\n",
       "\t<tr><th scope=col>&lt;chr&gt;</th><th scope=col>&lt;dbl&gt;</th></tr>\n",
       "</thead>\n",
       "<tbody>\n",
       "\t<tr><td>Full Model</td><td>0.7091242</td></tr>\n",
       "</tbody>\n",
       "</table>\n"
      ],
      "text/latex": [
       "A tibble: 1 × 2\n",
       "\\begin{tabular}{ll}\n",
       " Model & AUC\\\\\n",
       " <chr> & <dbl>\\\\\n",
       "\\hline\n",
       "\t Full Model & 0.7091242\\\\\n",
       "\\end{tabular}\n"
      ],
      "text/markdown": [
       "\n",
       "A tibble: 1 × 2\n",
       "\n",
       "| Model &lt;chr&gt; | AUC &lt;dbl&gt; |\n",
       "|---|---|\n",
       "| Full Model | 0.7091242 |\n",
       "\n"
      ],
      "text/plain": [
       "  Model      AUC      \n",
       "1 Full Model 0.7091242"
      ]
     },
     "metadata": {},
     "output_type": "display_data"
    }
   ],
   "source": [
    "auc_tibble <- tibble(Model = 'Full Model', AUC = as.double(ROC_full_log$auc))\n",
    "auc_tibble"
   ]
  },
  {
   "cell_type": "markdown",
   "metadata": {},
   "source": [
    "The AUC for the model is 0.709, meaning that there is 70.9% chance that our model will be able to identify between a popular and unpopular article."
   ]
  },
  {
   "cell_type": "markdown",
   "metadata": {},
   "source": [
    "Since we have multiple attributes, we wish to find the most significant attributes that contribute the most to the amount of shares an article receives. We will do so using forward selection by way of the `tidymodels` package."
   ]
  },
  {
   "cell_type": "code",
   "execution_count": 16,
   "metadata": {
    "vscode": {
     "languageId": "r"
    }
   },
   "outputs": [],
   "source": [
    "model_mat_X_train <-\n",
    "    model.matrix(object = article_logistic_regression, data = training_articles)[, -1]\n",
    "\n",
    "model_mat_Y_train <-\n",
    "    as.matrix(training_articles$shares, ncol = 1)\n"
   ]
  },
  {
   "cell_type": "code",
   "execution_count": 17,
   "metadata": {
    "vscode": {
     "languageId": "r"
    }
   },
   "outputs": [
    {
     "data": {
      "text/plain": [
       "\n",
       "Call:  cv.glmnet(x = model_mat_X_train, y = model_mat_Y_train, type.measure = \"auc\",      nfolds = 5, alpha = 1, family = \"binomial\") \n",
       "\n",
       "Measure: AUC \n",
       "\n",
       "       Lambda Index Measure       SE Nonzero\n",
       "min 0.0002829    62  0.7062 0.002039      52\n",
       "1se 0.0028952    37  0.7042 0.002144      38"
      ]
     },
     "metadata": {},
     "output_type": "display_data"
    }
   ],
   "source": [
    "articles_cv_lambda_lasso <- \n",
    "    cv.glmnet(\n",
    "        x = model_mat_X_train, y = model_mat_Y_train,\n",
    "        alpha = 1,\n",
    "        family = 'binomial',\n",
    "        type.measure = 'auc',\n",
    "        nfolds = 5\n",
    "    )\n",
    "articles_cv_lambda_lasso"
   ]
  },
  {
   "cell_type": "code",
   "execution_count": 18,
   "metadata": {
    "vscode": {
     "languageId": "r"
    }
   },
   "outputs": [],
   "source": [
    "articles_lambda_1se_AUC_LASSO <- round(articles_cv_lambda_lasso$lambda.1se, 4)\n"
   ]
  },
  {
   "cell_type": "code",
   "execution_count": 19,
   "metadata": {
    "vscode": {
     "languageId": "r"
    }
   },
   "outputs": [
    {
     "data": {
      "text/html": [
       "39"
      ],
      "text/latex": [
       "39"
      ],
      "text/markdown": [
       "39"
      ],
      "text/plain": [
       "[1] 39"
      ]
     },
     "metadata": {},
     "output_type": "display_data"
    }
   ],
   "source": [
    "articles_LASSO_1se_AUC <- glmnet(\n",
    " x = model_mat_X_train, y = model_mat_Y_train,\n",
    " alpha = 1,\n",
    " family = \"binomial\",\n",
    " lambda = articles_lambda_1se_AUC_LASSO\n",
    ")\n",
    "\n",
    "sum((coef(articles_LASSO_1se_AUC)[, 1] != 0) == TRUE)"
   ]
  },
  {
   "cell_type": "code",
   "execution_count": 20,
   "metadata": {
    "vscode": {
     "languageId": "r"
    }
   },
   "outputs": [],
   "source": [
    "auc_tibble <- auc_tibble |> add_row(Model = 'lasso', AUC = articles_cv_lambda_lasso$cvm[articles_cv_lambda_lasso$index[\"1se\",]])"
   ]
  },
  {
   "cell_type": "code",
   "execution_count": 21,
   "metadata": {
    "vscode": {
     "languageId": "r"
    }
   },
   "outputs": [
    {
     "data": {
      "text/html": [
       "<table class=\"dataframe\">\n",
       "<caption>A tibble: 2 × 2</caption>\n",
       "<thead>\n",
       "\t<tr><th scope=col>Model</th><th scope=col>AUC</th></tr>\n",
       "\t<tr><th scope=col>&lt;chr&gt;</th><th scope=col>&lt;dbl&gt;</th></tr>\n",
       "</thead>\n",
       "<tbody>\n",
       "\t<tr><td>Full Model</td><td>0.7091242</td></tr>\n",
       "\t<tr><td>lasso     </td><td>0.7042183</td></tr>\n",
       "</tbody>\n",
       "</table>\n"
      ],
      "text/latex": [
       "A tibble: 2 × 2\n",
       "\\begin{tabular}{ll}\n",
       " Model & AUC\\\\\n",
       " <chr> & <dbl>\\\\\n",
       "\\hline\n",
       "\t Full Model & 0.7091242\\\\\n",
       "\t lasso      & 0.7042183\\\\\n",
       "\\end{tabular}\n"
      ],
      "text/markdown": [
       "\n",
       "A tibble: 2 × 2\n",
       "\n",
       "| Model &lt;chr&gt; | AUC &lt;dbl&gt; |\n",
       "|---|---|\n",
       "| Full Model | 0.7091242 |\n",
       "| lasso      | 0.7042183 |\n",
       "\n"
      ],
      "text/plain": [
       "  Model      AUC      \n",
       "1 Full Model 0.7091242\n",
       "2 lasso      0.7042183"
      ]
     },
     "metadata": {},
     "output_type": "display_data"
    }
   ],
   "source": [
    "auc_tibble"
   ]
  },
  {
   "cell_type": "markdown",
   "metadata": {},
   "source": [
    "The lasso model has slightly less area under the curve, however it uses 36 input variables instead of the 60 the full model uses, which is more efficient to compute."
   ]
  }
 ],
 "metadata": {
  "kernelspec": {
   "display_name": "R",
   "language": "R",
   "name": "ir"
  },
  "language_info": {
   "codemirror_mode": "r",
   "file_extension": ".r",
   "mimetype": "text/x-r-source",
   "name": "R",
   "pygments_lexer": "r",
   "version": "4.3.2"
  }
 },
 "nbformat": 4,
 "nbformat_minor": 2
}
